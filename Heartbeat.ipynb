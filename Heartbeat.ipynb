{
 "cells": [
  {
   "cell_type": "markdown",
   "metadata": {},
   "source": [
    "# Heartbeat Detection"
   ]
  },
  {
   "cell_type": "markdown",
   "metadata": {
    "tags": []
   },
   "source": [
    "## Imports"
   ]
  },
  {
   "cell_type": "code",
   "execution_count": 2,
   "metadata": {},
   "outputs": [],
   "source": [
    "import copy\n",
    "import wave\n",
    "from pathlib import Path\n",
    "import numpy as np\n",
    "import tensorflow as tf\n",
    "from keras.models import Sequential\n",
    "from keras.layers import Input, Conv1D, AvgPool1D, MaxPool1D, ZeroPadding1D, BatchNormalization, Flatten, Dense, Activation, Dropout\n",
    "from keras.utils.data_utils import get_file\n",
    "from keras.utils.np_utils import to_categorical\n",
    "import math"
   ]
  },
  {
   "cell_type": "markdown",
   "metadata": {},
   "source": [
    "## Load heartbeat sounds"
   ]
  },
  {
   "cell_type": "code",
   "execution_count": 33,
   "metadata": {},
   "outputs": [
    {
     "name": "stdout",
     "output_type": "stream",
     "text": [
      "(661, 16000, 1)\n",
      "(74, 16000, 1)\n",
      "(184, 16000, 1)\n",
      "(661, 4)\n",
      "(74, 4)\n",
      "(184, 4)\n"
     ]
    }
   ],
   "source": [
    "# Classes to handle, ordered by label\n",
    "CLASSES = ['artifact','arrythmia','normal', 'noise']\n",
    "DATASET_DIR = Path('dataset_heartbeat')\n",
    "\n",
    "x_train = []\n",
    "y_train = []\n",
    "x_test = []\n",
    "y_test = []\n",
    "\n",
    "for recording in DATASET_DIR.glob(f'**/*.wav'):\n",
    "    if not recording.parent.name in CLASSES: # Ignore unused classes\n",
    "        continue\n",
    "    label = CLASSES.index(recording.parent.name) # Assign class number\n",
    "    \n",
    "    with wave.open(str(recording)) as f: # Read wave file\n",
    "        data = np.frombuffer(f.readframes(f.getnframes()), dtype=np.int16).copy() # As 16-bit signed integer\n",
    "        \n",
    "    data = data.astype(np.float32) # Convert to 32-bit floating-point\n",
    "    data.resize((16000, 1)) # Resize to 1s (16kHz) with zero-padding, 1 channel\n",
    "    \n",
    "    x_train.append(data)\n",
    "    y_train.append(label)\n",
    "\n",
    "x_train = np.array(x_train)\n",
    "y_train = to_categorical(np.array(y_train))\n",
    "\n",
    "perms2 = np.random.permutation(len(y_train))[0:math.ceil(len(y_train)*0.2)]\n",
    "\n",
    "x_test = x_train[perms2]\n",
    "y_test = y_train[perms2]\n",
    "\n",
    "x_train = np.delete(x_train, perms2, axis=0)\n",
    "y_train = np.delete(y_train, perms2, axis=0)\n",
    "\n",
    "perms1 = np.random.permutation(len(y_train))[0:math.ceil(len(y_train)*0.1)]\n",
    "\n",
    "x_val = x_train[perms1]\n",
    "y_val = y_train[perms1]\n",
    "\n",
    "x_train = np.delete(x_train, perms1, axis=0)\n",
    "y_train = np.delete(y_train, perms1, axis=0)\n",
    "\n",
    "print(x_train.shape)\n",
    "print(x_val.shape)\n",
    "print(x_test.shape)\n",
    "print(y_train.shape)\n",
    "print(y_val.shape)\n",
    "print(y_test.shape)"
   ]
  },
  {
   "cell_type": "markdown",
   "metadata": {},
   "source": [
    "## Prepare for inference with fixed-point Q7.9 samples by scaling input data accordingly"
   ]
  },
  {
   "cell_type": "code",
   "execution_count": 34,
   "metadata": {},
   "outputs": [],
   "source": [
    "FIXED_POINT = 9\n",
    "x_train /= 2**FIXED_POINT\n",
    "x_test  /= 2**FIXED_POINT"
   ]
  },
  {
   "cell_type": "markdown",
   "metadata": {
    "tags": []
   },
   "source": [
    "## Build model *not* M5"
   ]
  },
  {
   "cell_type": "code",
   "execution_count": 40,
   "metadata": {},
   "outputs": [
    {
     "name": "stdout",
     "output_type": "stream",
     "text": [
      "Model: \"sequential_5\"\n",
      "_________________________________________________________________\n",
      " Layer (type)                Output Shape              Param #   \n",
      "=================================================================\n",
      " max_pooling1d_25 (MaxPoolin  (None, 4000, 1)          0         \n",
      " g1D)                                                            \n",
      "                                                                 \n",
      " conv1d_30 (Conv1D)          (None, 3998, 2)           8         \n",
      "                                                                 \n",
      " max_pooling1d_26 (MaxPoolin  (None, 999, 2)           0         \n",
      " g1D)                                                            \n",
      "                                                                 \n",
      " conv1d_31 (Conv1D)          (None, 997, 4)            28        \n",
      "                                                                 \n",
      " max_pooling1d_27 (MaxPoolin  (None, 249, 4)           0         \n",
      " g1D)                                                            \n",
      "                                                                 \n",
      " conv1d_32 (Conv1D)          (None, 247, 8)            104       \n",
      "                                                                 \n",
      " max_pooling1d_28 (MaxPoolin  (None, 61, 8)            0         \n",
      " g1D)                                                            \n",
      "                                                                 \n",
      " conv1d_33 (Conv1D)          (None, 59, 16)            400       \n",
      "                                                                 \n",
      " conv1d_34 (Conv1D)          (None, 57, 32)            1568      \n",
      "                                                                 \n",
      " conv1d_35 (Conv1D)          (None, 55, 64)            6208      \n",
      "                                                                 \n",
      " max_pooling1d_29 (MaxPoolin  (None, 13, 64)           0         \n",
      " g1D)                                                            \n",
      "                                                                 \n",
      " flatten_5 (Flatten)         (None, 832)               0         \n",
      "                                                                 \n",
      " dense_15 (Dense)            (None, 16)                13328     \n",
      "                                                                 \n",
      " dense_16 (Dense)            (None, 6)                 102       \n",
      "                                                                 \n",
      " dense_17 (Dense)            (None, 4)                 28        \n",
      "                                                                 \n",
      "=================================================================\n",
      "Total params: 21,774\n",
      "Trainable params: 21,774\n",
      "Non-trainable params: 0\n",
      "_________________________________________________________________\n"
     ]
    }
   ],
   "source": [
    "# Define hyperparameters\n",
    "num_classes = len(CLASSES) # Number of sound classes\n",
    "num_filters = 2 # Number of filters for CNN layers\n",
    "num_units = 128 # Number of units for RNN layers\n",
    "num_heads = 8 # Number of heads for attention layers\n",
    "dropout_rate = 0.1 # Dropout rate for regularization\n",
    "\n",
    "model = Sequential()\n",
    "model.add(Input(shape=(16000, 1)))\n",
    "model.add(MaxPool1D(pool_size=4))\n",
    "model.add(Conv1D(2, kernel_size=3, activation='relu'))\n",
    "model.add(MaxPool1D(pool_size=4))\n",
    "model.add(Conv1D(4, kernel_size=3, activation='relu'))\n",
    "model.add(MaxPool1D(pool_size=4))\n",
    "model.add(Conv1D(8, kernel_size=3, activation='relu'))\n",
    "model.add(MaxPool1D(pool_size=4))\n",
    "model.add(Conv1D(16, kernel_size=3, activation='relu'))\n",
    "model.add(Conv1D(32, kernel_size=3, activation='relu'))\n",
    "model.add(Conv1D(64, kernel_size=3, activation='relu'))\n",
    "model.add(MaxPool1D(pool_size=4))\n",
    "model.add(Flatten())\n",
    "model.add(Dense(16, activation='relu'))\n",
    "model.add(Dense(6, activation='relu'))\n",
    "model.add(Dense(units=num_classes, activation='softmax')) # SoftMax activation needs to be separate from Dense to remove it later on\n",
    "# EXPLORE Learning Rate\n",
    "opt = tf.keras.optimizers.Adam(learning_rate=10e-6)\n",
    "model.summary()\n",
    "model.compile(optimizer=opt, loss='categorical_crossentropy', metrics=['categorical_accuracy'])"
   ]
  },
  {
   "cell_type": "markdown",
   "metadata": {},
   "source": [
    "## Train model"
   ]
  },
  {
   "cell_type": "code",
   "execution_count": 41,
   "metadata": {},
   "outputs": [
    {
     "name": "stdout",
     "output_type": "stream",
     "text": [
      "Epoch 1/70\n",
      "67/67 [==============================] - 2s 17ms/step - loss: 1.6615 - categorical_accuracy: 0.2390 - val_loss: 372.8742 - val_categorical_accuracy: 0.3243\n",
      "Epoch 2/70\n",
      "67/67 [==============================] - 1s 14ms/step - loss: 1.4788 - categorical_accuracy: 0.3162 - val_loss: 319.2780 - val_categorical_accuracy: 0.3919\n",
      "Epoch 3/70\n",
      "67/67 [==============================] - 1s 14ms/step - loss: 1.3531 - categorical_accuracy: 0.3858 - val_loss: 279.4325 - val_categorical_accuracy: 0.4459\n",
      "Epoch 4/70\n",
      "67/67 [==============================] - 1s 14ms/step - loss: 1.2523 - categorical_accuracy: 0.4206 - val_loss: 246.0269 - val_categorical_accuracy: 0.4865\n",
      "Epoch 5/70\n",
      "67/67 [==============================] - 1s 14ms/step - loss: 1.1748 - categorical_accuracy: 0.4539 - val_loss: 219.6659 - val_categorical_accuracy: 0.4865\n",
      "Epoch 6/70\n",
      "67/67 [==============================] - 1s 14ms/step - loss: 1.1189 - categorical_accuracy: 0.5038 - val_loss: 199.8509 - val_categorical_accuracy: 0.5135\n",
      "Epoch 7/70\n",
      "67/67 [==============================] - 1s 14ms/step - loss: 1.0773 - categorical_accuracy: 0.5401 - val_loss: 181.3931 - val_categorical_accuracy: 0.5541\n",
      "Epoch 8/70\n",
      "67/67 [==============================] - 1s 14ms/step - loss: 1.0475 - categorical_accuracy: 0.5598 - val_loss: 168.6271 - val_categorical_accuracy: 0.5541\n",
      "Epoch 9/70\n",
      "67/67 [==============================] - 1s 13ms/step - loss: 1.0233 - categorical_accuracy: 0.5930 - val_loss: 158.3012 - val_categorical_accuracy: 0.5405\n",
      "Epoch 10/70\n",
      "67/67 [==============================] - 1s 14ms/step - loss: 1.0029 - categorical_accuracy: 0.6127 - val_loss: 155.7978 - val_categorical_accuracy: 0.5541\n",
      "Epoch 11/70\n",
      "67/67 [==============================] - 1s 13ms/step - loss: 0.9850 - categorical_accuracy: 0.6248 - val_loss: 148.2580 - val_categorical_accuracy: 0.5541\n",
      "Epoch 12/70\n",
      "67/67 [==============================] - 1s 14ms/step - loss: 0.9707 - categorical_accuracy: 0.6354 - val_loss: 143.6549 - val_categorical_accuracy: 0.5541\n",
      "Epoch 13/70\n",
      "67/67 [==============================] - 1s 14ms/step - loss: 0.9579 - categorical_accuracy: 0.6399 - val_loss: 138.5626 - val_categorical_accuracy: 0.5676\n",
      "Epoch 14/70\n",
      "67/67 [==============================] - 1s 15ms/step - loss: 0.9464 - categorical_accuracy: 0.6430 - val_loss: 137.5980 - val_categorical_accuracy: 0.5811\n",
      "Epoch 15/70\n",
      "67/67 [==============================] - 1s 13ms/step - loss: 0.9369 - categorical_accuracy: 0.6505 - val_loss: 138.8845 - val_categorical_accuracy: 0.5946\n",
      "Epoch 16/70\n",
      "67/67 [==============================] - 1s 14ms/step - loss: 0.9282 - categorical_accuracy: 0.6505 - val_loss: 136.5240 - val_categorical_accuracy: 0.5811\n",
      "Epoch 17/70\n",
      "67/67 [==============================] - 1s 14ms/step - loss: 0.9194 - categorical_accuracy: 0.6520 - val_loss: 135.9163 - val_categorical_accuracy: 0.5946\n",
      "Epoch 18/70\n",
      "67/67 [==============================] - 1s 14ms/step - loss: 0.9115 - categorical_accuracy: 0.6641 - val_loss: 138.2758 - val_categorical_accuracy: 0.5946\n",
      "Epoch 19/70\n",
      "67/67 [==============================] - 1s 15ms/step - loss: 0.9037 - categorical_accuracy: 0.6672 - val_loss: 138.4328 - val_categorical_accuracy: 0.5946\n",
      "Epoch 20/70\n",
      "67/67 [==============================] - 1s 15ms/step - loss: 0.8945 - categorical_accuracy: 0.6687 - val_loss: 139.3281 - val_categorical_accuracy: 0.6081\n",
      "Epoch 21/70\n",
      "67/67 [==============================] - 1s 15ms/step - loss: 0.8869 - categorical_accuracy: 0.6778 - val_loss: 135.7384 - val_categorical_accuracy: 0.6216\n",
      "Epoch 22/70\n",
      "67/67 [==============================] - 1s 15ms/step - loss: 0.8799 - categorical_accuracy: 0.6732 - val_loss: 135.3947 - val_categorical_accuracy: 0.6351\n",
      "Epoch 23/70\n",
      "67/67 [==============================] - 1s 15ms/step - loss: 0.8722 - categorical_accuracy: 0.6732 - val_loss: 130.9389 - val_categorical_accuracy: 0.6351\n",
      "Epoch 24/70\n",
      "67/67 [==============================] - 1s 15ms/step - loss: 0.8654 - categorical_accuracy: 0.6793 - val_loss: 131.6255 - val_categorical_accuracy: 0.6622\n",
      "Epoch 25/70\n",
      "67/67 [==============================] - 1s 15ms/step - loss: 0.8591 - categorical_accuracy: 0.6868 - val_loss: 131.1136 - val_categorical_accuracy: 0.6622\n",
      "Epoch 26/70\n",
      "67/67 [==============================] - 1s 15ms/step - loss: 0.8522 - categorical_accuracy: 0.6914 - val_loss: 130.2621 - val_categorical_accuracy: 0.6622\n",
      "Epoch 27/70\n",
      "67/67 [==============================] - 1s 14ms/step - loss: 0.8474 - categorical_accuracy: 0.6853 - val_loss: 131.8305 - val_categorical_accuracy: 0.6622\n",
      "Epoch 28/70\n",
      "67/67 [==============================] - 1s 16ms/step - loss: 0.8412 - categorical_accuracy: 0.6899 - val_loss: 131.3997 - val_categorical_accuracy: 0.6622\n",
      "Epoch 29/70\n",
      "67/67 [==============================] - 1s 15ms/step - loss: 0.8345 - categorical_accuracy: 0.6899 - val_loss: 133.8580 - val_categorical_accuracy: 0.6486\n",
      "Epoch 30/70\n",
      "67/67 [==============================] - 1s 15ms/step - loss: 0.8293 - categorical_accuracy: 0.6974 - val_loss: 130.7334 - val_categorical_accuracy: 0.6486\n",
      "Epoch 31/70\n",
      "67/67 [==============================] - 1s 15ms/step - loss: 0.8231 - categorical_accuracy: 0.7035 - val_loss: 132.4293 - val_categorical_accuracy: 0.6622\n",
      "Epoch 32/70\n",
      "67/67 [==============================] - 1s 14ms/step - loss: 0.8187 - categorical_accuracy: 0.7065 - val_loss: 127.5013 - val_categorical_accuracy: 0.6622\n",
      "Epoch 33/70\n",
      "67/67 [==============================] - 1s 15ms/step - loss: 0.8112 - categorical_accuracy: 0.7020 - val_loss: 130.9145 - val_categorical_accuracy: 0.6622\n",
      "Epoch 34/70\n",
      "67/67 [==============================] - 1s 16ms/step - loss: 0.8037 - categorical_accuracy: 0.7050 - val_loss: 127.9560 - val_categorical_accuracy: 0.6622\n",
      "Epoch 35/70\n",
      "67/67 [==============================] - 1s 15ms/step - loss: 0.7984 - categorical_accuracy: 0.7005 - val_loss: 122.8580 - val_categorical_accuracy: 0.6081\n",
      "Epoch 36/70\n",
      "67/67 [==============================] - 1s 14ms/step - loss: 0.7901 - categorical_accuracy: 0.7050 - val_loss: 129.9453 - val_categorical_accuracy: 0.6351\n",
      "Epoch 37/70\n",
      "67/67 [==============================] - 1s 15ms/step - loss: 0.7843 - categorical_accuracy: 0.7065 - val_loss: 126.8651 - val_categorical_accuracy: 0.6351\n",
      "Epoch 38/70\n",
      "67/67 [==============================] - 1s 16ms/step - loss: 0.7794 - categorical_accuracy: 0.7095 - val_loss: 131.2468 - val_categorical_accuracy: 0.6486\n",
      "Epoch 39/70\n",
      "67/67 [==============================] - 1s 15ms/step - loss: 0.7727 - categorical_accuracy: 0.7141 - val_loss: 128.5795 - val_categorical_accuracy: 0.6486\n",
      "Epoch 40/70\n",
      "67/67 [==============================] - 1s 16ms/step - loss: 0.7666 - categorical_accuracy: 0.7141 - val_loss: 127.3122 - val_categorical_accuracy: 0.6486\n",
      "Epoch 41/70\n",
      "67/67 [==============================] - 1s 15ms/step - loss: 0.7624 - categorical_accuracy: 0.7171 - val_loss: 126.3391 - val_categorical_accuracy: 0.6622\n",
      "Epoch 42/70\n",
      "67/67 [==============================] - 1s 15ms/step - loss: 0.7558 - categorical_accuracy: 0.7156 - val_loss: 127.1967 - val_categorical_accuracy: 0.6622\n",
      "Epoch 43/70\n",
      "67/67 [==============================] - 1s 16ms/step - loss: 0.7501 - categorical_accuracy: 0.7216 - val_loss: 122.4235 - val_categorical_accuracy: 0.6622\n",
      "Epoch 44/70\n",
      "67/67 [==============================] - 1s 16ms/step - loss: 0.7447 - categorical_accuracy: 0.7231 - val_loss: 122.8080 - val_categorical_accuracy: 0.6622\n",
      "Epoch 45/70\n",
      "67/67 [==============================] - 1s 15ms/step - loss: 0.7394 - categorical_accuracy: 0.7231 - val_loss: 121.4205 - val_categorical_accuracy: 0.6622\n",
      "Epoch 46/70\n",
      "67/67 [==============================] - 1s 15ms/step - loss: 0.7349 - categorical_accuracy: 0.7247 - val_loss: 118.1684 - val_categorical_accuracy: 0.6622\n",
      "Epoch 47/70\n",
      "67/67 [==============================] - 1s 15ms/step - loss: 0.7302 - categorical_accuracy: 0.7277 - val_loss: 116.1509 - val_categorical_accuracy: 0.6486\n",
      "Epoch 48/70\n",
      "67/67 [==============================] - 1s 15ms/step - loss: 0.7239 - categorical_accuracy: 0.7322 - val_loss: 112.9059 - val_categorical_accuracy: 0.6757\n",
      "Epoch 49/70\n",
      "67/67 [==============================] - 1s 15ms/step - loss: 0.7192 - categorical_accuracy: 0.7322 - val_loss: 112.5413 - val_categorical_accuracy: 0.6757\n"
     ]
    },
    {
     "name": "stdout",
     "output_type": "stream",
     "text": [
      "Epoch 50/70\n",
      "67/67 [==============================] - 1s 15ms/step - loss: 0.7140 - categorical_accuracy: 0.7337 - val_loss: 113.1399 - val_categorical_accuracy: 0.6757\n",
      "Epoch 51/70\n",
      "67/67 [==============================] - 1s 14ms/step - loss: 0.7083 - categorical_accuracy: 0.7383 - val_loss: 109.4961 - val_categorical_accuracy: 0.6892\n",
      "Epoch 52/70\n",
      "67/67 [==============================] - 1s 14ms/step - loss: 0.7037 - categorical_accuracy: 0.7398 - val_loss: 108.3655 - val_categorical_accuracy: 0.7027\n",
      "Epoch 53/70\n",
      "67/67 [==============================] - 1s 14ms/step - loss: 0.6981 - categorical_accuracy: 0.7413 - val_loss: 106.6073 - val_categorical_accuracy: 0.7027\n",
      "Epoch 54/70\n",
      "67/67 [==============================] - 1s 16ms/step - loss: 0.6939 - categorical_accuracy: 0.7428 - val_loss: 102.4634 - val_categorical_accuracy: 0.7162\n",
      "Epoch 55/70\n",
      "67/67 [==============================] - 1s 15ms/step - loss: 0.6886 - categorical_accuracy: 0.7489 - val_loss: 102.1750 - val_categorical_accuracy: 0.7162\n",
      "Epoch 56/70\n",
      "67/67 [==============================] - 1s 15ms/step - loss: 0.6833 - categorical_accuracy: 0.7489 - val_loss: 106.3107 - val_categorical_accuracy: 0.7027\n",
      "Epoch 57/70\n",
      "67/67 [==============================] - 1s 15ms/step - loss: 0.6799 - categorical_accuracy: 0.7519 - val_loss: 95.9032 - val_categorical_accuracy: 0.7297\n",
      "Epoch 58/70\n",
      "67/67 [==============================] - 1s 15ms/step - loss: 0.6737 - categorical_accuracy: 0.7504 - val_loss: 100.7208 - val_categorical_accuracy: 0.7297\n",
      "Epoch 59/70\n",
      "67/67 [==============================] - 1s 15ms/step - loss: 0.6696 - categorical_accuracy: 0.7549 - val_loss: 97.4536 - val_categorical_accuracy: 0.7297\n",
      "Epoch 60/70\n",
      "67/67 [==============================] - 1s 15ms/step - loss: 0.6651 - categorical_accuracy: 0.7595 - val_loss: 98.4809 - val_categorical_accuracy: 0.7297\n",
      "Epoch 61/70\n",
      "67/67 [==============================] - 1s 14ms/step - loss: 0.6607 - categorical_accuracy: 0.7564 - val_loss: 95.8005 - val_categorical_accuracy: 0.7297\n",
      "Epoch 62/70\n",
      "67/67 [==============================] - 1s 15ms/step - loss: 0.6563 - categorical_accuracy: 0.7655 - val_loss: 95.4325 - val_categorical_accuracy: 0.7297\n",
      "Epoch 63/70\n",
      "67/67 [==============================] - 1s 15ms/step - loss: 0.6513 - categorical_accuracy: 0.7640 - val_loss: 96.9275 - val_categorical_accuracy: 0.7297\n",
      "Epoch 64/70\n",
      "67/67 [==============================] - 1s 15ms/step - loss: 0.6463 - categorical_accuracy: 0.7685 - val_loss: 94.4565 - val_categorical_accuracy: 0.7297\n",
      "Epoch 65/70\n",
      "67/67 [==============================] - 1s 14ms/step - loss: 0.6416 - categorical_accuracy: 0.7731 - val_loss: 95.2226 - val_categorical_accuracy: 0.7297\n",
      "Epoch 66/70\n",
      "67/67 [==============================] - 1s 15ms/step - loss: 0.6380 - categorical_accuracy: 0.7746 - val_loss: 93.4234 - val_categorical_accuracy: 0.7297\n",
      "Epoch 67/70\n",
      "67/67 [==============================] - 1s 15ms/step - loss: 0.6329 - categorical_accuracy: 0.7700 - val_loss: 93.7374 - val_categorical_accuracy: 0.7297\n",
      "Epoch 68/70\n",
      "67/67 [==============================] - 1s 15ms/step - loss: 0.6294 - categorical_accuracy: 0.7700 - val_loss: 87.8684 - val_categorical_accuracy: 0.7432\n",
      "Epoch 69/70\n",
      "67/67 [==============================] - 1s 15ms/step - loss: 0.6248 - categorical_accuracy: 0.7791 - val_loss: 94.2109 - val_categorical_accuracy: 0.7297\n",
      "Epoch 70/70\n",
      "67/67 [==============================] - 1s 15ms/step - loss: 0.6201 - categorical_accuracy: 0.7731 - val_loss: 91.1487 - val_categorical_accuracy: 0.7297\n"
     ]
    },
    {
     "data": {
      "text/plain": [
       "<keras.callbacks.History at 0x23d815f50c0>"
      ]
     },
     "execution_count": 41,
     "metadata": {},
     "output_type": "execute_result"
    }
   ],
   "source": [
    "model.fit(x_train, y_train, epochs=70, batch_size=10, validation_data=(x_val, y_val))"
   ]
  },
  {
   "cell_type": "markdown",
   "metadata": {},
   "source": [
    "## Evaluate model on test dataset"
   ]
  },
  {
   "cell_type": "code",
   "execution_count": 43,
   "metadata": {},
   "outputs": [
    {
     "name": "stdout",
     "output_type": "stream",
     "text": [
      "6/6 - 0s - loss: 0.6997 - categorical_accuracy: 0.7391 - 80ms/epoch - 13ms/step\n",
      "6/6 [==============================] - 0s 13ms/step\n",
      "tf.Tensor(\n",
      "[[ 0  4  7  0]\n",
      " [ 0 10 24  0]\n",
      " [ 0  8 68  0]\n",
      " [ 0  0  5 58]], shape=(4, 4), dtype=int32)\n"
     ]
    }
   ],
   "source": [
    "model.evaluate(x_test, y_test, verbose=2)\n",
    "pred_test = model.predict(x_test)\n",
    "print(tf.math.confusion_matrix(y_test.argmax(axis=1), pred_test.argmax(axis=1)))"
   ]
  },
  {
   "cell_type": "markdown",
   "metadata": {},
   "source": [
    "## Save trained model"
   ]
  },
  {
   "cell_type": "code",
   "execution_count": 44,
   "metadata": {},
   "outputs": [],
   "source": [
    "model.save('heartbeat_74percent.h5')\n",
    "\n",
    "np.savetxt('x_test.csv', x_test.reshape((x_test.shape[0], -1)), delimiter=',', fmt='%s')\n",
    "np.savetxt('y_test.csv', y_test, delimiter=',', fmt='%s')"
   ]
  },
  {
   "cell_type": "markdown",
   "metadata": {},
   "source": [
    "## Remove SoftMax layer"
   ]
  },
  {
   "cell_type": "code",
   "execution_count": 45,
   "metadata": {},
   "outputs": [],
   "source": [
    "model = tf.keras.Model(model.input, model.layers[-2].output, name=model.name)"
   ]
  },
  {
   "cell_type": "markdown",
   "metadata": {},
   "source": [
    "## Install MicroAI for C inference code generation (kerascnn2c module)"
   ]
  },
  {
   "cell_type": "code",
   "execution_count": 46,
   "metadata": {},
   "outputs": [
    {
     "name": "stdout",
     "output_type": "stream",
     "text": [
      "Collecting https://bitbucket.org/edge-team-leat/microai_public/get/6adfbcb347d3.zip#subdirectory=third_party/kerascnn2c_fixed\n",
      "Note: you may need to restart the kernel to use updated packages.\n"
     ]
    },
    {
     "name": "stderr",
     "output_type": "stream",
     "text": [
      "  WARNING: Retrying (Retry(total=4, connect=None, read=None, redirect=None, status=None)) after connection broken by 'NewConnectionError('<pip._vendor.urllib3.connection.HTTPSConnection object at 0x0000022B401E20B0>: Failed to establish a new connection: [Errno 11001] getaddrinfo failed')': /edge-team-leat/microai_public/get/6adfbcb347d3.zip\n",
      "  WARNING: Retrying (Retry(total=3, connect=None, read=None, redirect=None, status=None)) after connection broken by 'NewConnectionError('<pip._vendor.urllib3.connection.HTTPSConnection object at 0x0000022B401E23E0>: Failed to establish a new connection: [Errno 11001] getaddrinfo failed')': /edge-team-leat/microai_public/get/6adfbcb347d3.zip\n",
      "  WARNING: Retrying (Retry(total=2, connect=None, read=None, redirect=None, status=None)) after connection broken by 'NewConnectionError('<pip._vendor.urllib3.connection.HTTPSConnection object at 0x0000022B401E2590>: Failed to establish a new connection: [Errno 11001] getaddrinfo failed')': /edge-team-leat/microai_public/get/6adfbcb347d3.zip\n",
      "  WARNING: Retrying (Retry(total=1, connect=None, read=None, redirect=None, status=None)) after connection broken by 'NewConnectionError('<pip._vendor.urllib3.connection.HTTPSConnection object at 0x0000022B401E2740>: Failed to establish a new connection: [Errno 11001] getaddrinfo failed')': /edge-team-leat/microai_public/get/6adfbcb347d3.zip\n",
      "  WARNING: Retrying (Retry(total=0, connect=None, read=None, redirect=None, status=None)) after connection broken by 'NewConnectionError('<pip._vendor.urllib3.connection.HTTPSConnection object at 0x0000022B401E28F0>: Failed to establish a new connection: [Errno 11001] getaddrinfo failed')': /edge-team-leat/microai_public/get/6adfbcb347d3.zip\n",
      "ERROR: Could not install packages due to an OSError: HTTPSConnectionPool(host='bitbucket.org', port=443): Max retries exceeded with url: /edge-team-leat/microai_public/get/6adfbcb347d3.zip (Caused by NewConnectionError('<pip._vendor.urllib3.connection.HTTPSConnection object at 0x0000022B401E2AA0>: Failed to establish a new connection: [Errno 11001] getaddrinfo failed'))\n",
      "\n",
      "\n",
      "[notice] A new release of pip is available: 23.0.1 -> 23.1.1\n",
      "[notice] To update, run: python.exe -m pip install --upgrade pip\n"
     ]
    }
   ],
   "source": [
    "%pip install https://bitbucket.org/edge-team-leat/microai_public/get/6adfbcb347d3.zip#subdirectory=third_party/kerascnn2c_fixed\n",
    "import kerascnn2c"
   ]
  },
  {
   "cell_type": "markdown",
   "metadata": {
    "tags": []
   },
   "source": [
    "## Generate C code for the trained model with 16-bit fixed-point representation"
   ]
  },
  {
   "cell_type": "code",
   "execution_count": 47,
   "metadata": {},
   "outputs": [
    {
     "name": "stdout",
     "output_type": "stream",
     "text": [
      "———————————————————————————————————————————————————————————————————————————————————————————————————————\n",
      "Inputs                           | Layer                            | Outputs                         \n",
      "———————————————————————————————————————————————————————————————————————————————————————————————————————\n",
      "                                 | input_6                          | max_pooling1d_25                \n",
      "-------------------------------------------------------------------------------------------------------\n",
      "input_6                          | max_pooling1d_25                 | conv1d_30                       \n",
      "-------------------------------------------------------------------------------------------------------\n",
      "max_pooling1d_25                 | conv1d_30                        | max_pooling1d_26                \n",
      "-------------------------------------------------------------------------------------------------------\n",
      "conv1d_30                        | max_pooling1d_26                 | conv1d_31                       \n",
      "-------------------------------------------------------------------------------------------------------\n",
      "max_pooling1d_26                 | conv1d_31                        | max_pooling1d_27                \n",
      "-------------------------------------------------------------------------------------------------------\n",
      "conv1d_31                        | max_pooling1d_27                 | conv1d_32                       \n",
      "-------------------------------------------------------------------------------------------------------\n",
      "max_pooling1d_27                 | conv1d_32                        | max_pooling1d_28                \n",
      "-------------------------------------------------------------------------------------------------------\n",
      "conv1d_32                        | max_pooling1d_28                 | conv1d_33                       \n",
      "-------------------------------------------------------------------------------------------------------\n",
      "max_pooling1d_28                 | conv1d_33                        | conv1d_34                       \n",
      "-------------------------------------------------------------------------------------------------------\n",
      "conv1d_33                        | conv1d_34                        | conv1d_35                       \n",
      "-------------------------------------------------------------------------------------------------------\n",
      "conv1d_34                        | conv1d_35                        | max_pooling1d_29                \n",
      "-------------------------------------------------------------------------------------------------------\n",
      "conv1d_35                        | max_pooling1d_29                 | flatten_5                       \n",
      "-------------------------------------------------------------------------------------------------------\n",
      "max_pooling1d_29                 | flatten_5                        | dense_15                        \n",
      "-------------------------------------------------------------------------------------------------------\n",
      "flatten_5                        | dense_15                         | dense_16                        \n",
      "-------------------------------------------------------------------------------------------------------\n",
      "dense_15                         | dense_16                         |                                 \n",
      "-------------------------------------------------------------------------------------------------------\n",
      "\n",
      "After optimization:\n",
      "———————————————————————————————————————————————————————————————————————————————————————————————————————\n",
      "Inputs                           | Layer                            | Outputs                         \n",
      "———————————————————————————————————————————————————————————————————————————————————————————————————————\n",
      "                                 | input_6                          | max_pooling1d_25                \n",
      "-------------------------------------------------------------------------------------------------------\n",
      "input_6                          | max_pooling1d_25                 | conv1d_30                       \n",
      "-------------------------------------------------------------------------------------------------------\n",
      "max_pooling1d_25                 | conv1d_30                        | max_pooling1d_26                \n",
      "-------------------------------------------------------------------------------------------------------\n",
      "conv1d_30                        | max_pooling1d_26                 | conv1d_31                       \n",
      "-------------------------------------------------------------------------------------------------------\n",
      "max_pooling1d_26                 | conv1d_31                        | max_pooling1d_27                \n",
      "-------------------------------------------------------------------------------------------------------\n",
      "conv1d_31                        | max_pooling1d_27                 | conv1d_32                       \n",
      "-------------------------------------------------------------------------------------------------------\n",
      "max_pooling1d_27                 | conv1d_32                        | max_pooling1d_28                \n",
      "-------------------------------------------------------------------------------------------------------\n",
      "conv1d_32                        | max_pooling1d_28                 | conv1d_33                       \n",
      "-------------------------------------------------------------------------------------------------------\n",
      "max_pooling1d_28                 | conv1d_33                        | conv1d_34                       \n",
      "-------------------------------------------------------------------------------------------------------\n",
      "conv1d_33                        | conv1d_34                        | conv1d_35                       \n",
      "-------------------------------------------------------------------------------------------------------\n",
      "conv1d_34                        | conv1d_35                        | max_pooling1d_29                \n",
      "-------------------------------------------------------------------------------------------------------\n",
      "conv1d_35                        | max_pooling1d_29                 | flatten_5                       \n",
      "-------------------------------------------------------------------------------------------------------\n",
      "max_pooling1d_29                 | flatten_5                        | dense_15                        \n",
      "-------------------------------------------------------------------------------------------------------\n",
      "flatten_5                        | dense_15                         | dense_16                        \n",
      "-------------------------------------------------------------------------------------------------------\n",
      "dense_15                         | dense_16                         |                                 \n",
      "-------------------------------------------------------------------------------------------------------\n",
      "\n"
     ]
    }
   ],
   "source": [
    "res = kerascnn2c.Converter(output_path=Path('gsc_output_fixed'),\n",
    "                           fixed_point=FIXED_POINT, # Number of bits for the fractional part, Q7.9 format\n",
    "                           number_type='int16_t', # Data type for weights/activations (16 bits quantization)\n",
    "                           long_number_type='int32_t', # Data type for intermediate results\n",
    "                           number_min=-(2**15), # Minimum value for 16-bit signed integers\n",
    "                           number_max=(2**15)-1 # Maximum value for 16-bit signed integers\n",
    "                          ).convert_model(copy.deepcopy(model))\n",
    "with open('full_model.h', 'w') as f:\n",
    "    f.write(res)"
   ]
  },
  {
   "cell_type": "markdown",
   "metadata": {
    "tags": []
   },
   "source": [
    "## Compile the 16-bit fixed-point C code for x86 and evaluate on small dataset"
   ]
  },
  {
   "cell_type": "code",
   "execution_count": 48,
   "metadata": {
    "scrolled": false
   },
   "outputs": [
    {
     "name": "stderr",
     "output_type": "stream",
     "text": [
      "gsc_output_fixed/model.c: In function 'void cnn(const number_t (*)[16000], number_t*)':\n",
      "gsc_output_fixed/model.c:178:18: warning: left operand of comma operator has no effect [-Wunused-value]\n",
      "  178 |     activations1.max_pooling1d_29_output,\n",
      "      |     ~~~~~~~~~~~~~^~~~~~~~~~~~~~~~~~~~~~~\n",
      "'.' is not recognized as an internal or external command,\n",
      "operable program or batch file.\n"
     ]
    }
   ],
   "source": [
    "!g++ -Wall -Wextra -pedantic -Ofast -o gsc_fixed -Igsc_output_fixed/ gsc_output_fixed/model.c main.cpp \n",
    "!./gsc_fixed x_test.csv y_test.csv"
   ]
  }
 ],
 "metadata": {
  "kernelspec": {
   "display_name": "Python 3 (ipykernel)",
   "language": "python",
   "name": "python3"
  },
  "language_info": {
   "codemirror_mode": {
    "name": "ipython",
    "version": 3
   },
   "file_extension": ".py",
   "mimetype": "text/x-python",
   "name": "python",
   "nbconvert_exporter": "python",
   "pygments_lexer": "ipython3",
   "version": "3.10.7"
  }
 },
 "nbformat": 4,
 "nbformat_minor": 4
}
