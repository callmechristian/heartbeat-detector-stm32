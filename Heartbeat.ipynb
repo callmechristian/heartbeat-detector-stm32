{
 "cells": [
  {
   "cell_type": "markdown",
   "metadata": {},
   "source": [
    "# Heartbeat Detection"
   ]
  },
  {
   "cell_type": "markdown",
   "metadata": {
    "tags": []
   },
   "source": [
    "## Imports"
   ]
  },
  {
   "cell_type": "code",
   "execution_count": 2,
   "metadata": {},
   "outputs": [],
   "source": [
    "import copy\n",
    "import wave\n",
    "from pathlib import Path\n",
    "import numpy as np\n",
    "import tensorflow as tf\n",
    "from keras.models import Sequential\n",
    "from keras.layers import Input, Conv1D, AvgPool1D, MaxPool1D, ZeroPadding1D, BatchNormalization, Flatten, Dense, Activation, Dropout\n",
    "from keras.utils.data_utils import get_file\n",
    "from keras.utils.np_utils import to_categorical\n",
    "import math"
   ]
  },
  {
   "cell_type": "markdown",
   "metadata": {},
   "source": [
    "## Load heartbeat sounds"
   ]
  },
  {
   "cell_type": "code",
   "execution_count": 18,
   "metadata": {},
   "outputs": [
    {
     "name": "stdout",
     "output_type": "stream",
     "text": [
      "(735, 16000, 1)\n",
      "(184, 16000, 1)\n",
      "(735, 4)\n",
      "(184, 4)\n"
     ]
    }
   ],
   "source": [
    "# Classes to handle, ordered by label\n",
    "CLASSES = ['artifact','arrythmia','normal', 'noise']\n",
    "DATASET_DIR = Path('dataset_heartbeat')\n",
    "\n",
    "x_train = []\n",
    "y_train = []\n",
    "x_test = []\n",
    "y_test = []\n",
    "\n",
    "for recording in DATASET_DIR.glob(f'**/*.wav'):\n",
    "    if not recording.parent.name in CLASSES: # Ignore unused classes\n",
    "        continue\n",
    "    label = CLASSES.index(recording.parent.name) # Assign class number\n",
    "    \n",
    "    with wave.open(str(recording)) as f: # Read wave file\n",
    "        data = np.frombuffer(f.readframes(f.getnframes()), dtype=np.int16).copy() # As 16-bit signed integer\n",
    "        \n",
    "    data = data.astype(np.float32) # Convert to 32-bit floating-point\n",
    "    data.resize((16000, 1)) # Resize to 1s (16kHz) with zero-padding, 1 channel\n",
    "    \n",
    "    x_train.append(data)\n",
    "    y_train.append(label)\n",
    "\n",
    "x_train = np.array(x_train)\n",
    "y_train = to_categorical(np.array(y_train))\n",
    "\n",
    "perms = np.random.permutation(len(y_train))[0:math.ceil(len(y_train)*0.2)]\n",
    "x_test = x_train[perms]\n",
    "y_test = y_train[perms]\n",
    "\n",
    "x_train = np.delete(x_train, perms, axis=0)\n",
    "y_train = np.delete(y_train, perms, axis=0)\n",
    "\n",
    "print(x_train.shape)\n",
    "print(x_test.shape)\n",
    "print(y_train.shape)\n",
    "print(y_test.shape)"
   ]
  },
  {
   "cell_type": "markdown",
   "metadata": {},
   "source": [
    "## Combine set A and B"
   ]
  },
  {
   "cell_type": "code",
   "execution_count": 19,
   "metadata": {},
   "outputs": [
    {
     "name": "stdout",
     "output_type": "stream",
     "text": [
      "\n",
      "training data shape:  (735, 16000, 1)\n",
      "training label shape:  (735, 4)\n",
      "\n",
      "test data shape:  (184, 16000, 1)\n",
      "test label shape:  (184, 4)\n"
     ]
    }
   ],
   "source": [
    "print (\"\")\n",
    "print (\"training data shape: \", x_train.shape)\n",
    "print (\"training label shape: \", y_train.shape)\n",
    "print (\"\")\n",
    "print (\"test data shape: \", x_test.shape)\n",
    "print (\"test label shape: \", y_test.shape)"
   ]
  },
  {
   "cell_type": "markdown",
   "metadata": {},
   "source": [
    "## Prepare for inference with fixed-point Q7.9 samples by scaling input data accordingly"
   ]
  },
  {
   "cell_type": "code",
   "execution_count": 20,
   "metadata": {},
   "outputs": [],
   "source": [
    "FIXED_POINT = 9\n",
    "x_train /= 2**FIXED_POINT\n",
    "x_test  /= 2**FIXED_POINT"
   ]
  },
  {
   "cell_type": "markdown",
   "metadata": {
    "tags": []
   },
   "source": [
    "## Build model *not* M5"
   ]
  },
  {
   "cell_type": "code",
   "execution_count": 70,
   "metadata": {},
   "outputs": [
    {
     "name": "stdout",
     "output_type": "stream",
     "text": [
      "Model: \"sequential_27\"\n",
      "_________________________________________________________________\n",
      " Layer (type)                Output Shape              Param #   \n",
      "=================================================================\n",
      " max_pooling1d_141 (MaxPooli  (None, 4000, 1)          0         \n",
      " ng1D)                                                           \n",
      "                                                                 \n",
      " conv1d_154 (Conv1D)         (None, 3998, 2)           8         \n",
      "                                                                 \n",
      " max_pooling1d_142 (MaxPooli  (None, 999, 2)           0         \n",
      " ng1D)                                                           \n",
      "                                                                 \n",
      " conv1d_155 (Conv1D)         (None, 997, 4)            28        \n",
      "                                                                 \n",
      " max_pooling1d_143 (MaxPooli  (None, 249, 4)           0         \n",
      " ng1D)                                                           \n",
      "                                                                 \n",
      " conv1d_156 (Conv1D)         (None, 247, 8)            104       \n",
      "                                                                 \n",
      " max_pooling1d_144 (MaxPooli  (None, 61, 8)            0         \n",
      " ng1D)                                                           \n",
      "                                                                 \n",
      " conv1d_157 (Conv1D)         (None, 59, 16)            400       \n",
      "                                                                 \n",
      " conv1d_158 (Conv1D)         (None, 57, 32)            1568      \n",
      "                                                                 \n",
      " conv1d_159 (Conv1D)         (None, 55, 64)            6208      \n",
      "                                                                 \n",
      " max_pooling1d_145 (MaxPooli  (None, 13, 64)           0         \n",
      " ng1D)                                                           \n",
      "                                                                 \n",
      " flatten_20 (Flatten)        (None, 832)               0         \n",
      "                                                                 \n",
      " dense_50 (Dense)            (None, 16)                13328     \n",
      "                                                                 \n",
      " dense_51 (Dense)            (None, 6)                 102       \n",
      "                                                                 \n",
      " dense_52 (Dense)            (None, 4)                 28        \n",
      "                                                                 \n",
      "=================================================================\n",
      "Total params: 21,774\n",
      "Trainable params: 21,774\n",
      "Non-trainable params: 0\n",
      "_________________________________________________________________\n"
     ]
    }
   ],
   "source": [
    "# Define hyperparameters\n",
    "num_classes = len(CLASSES) # Number of sound classes\n",
    "num_filters = 2 # Number of filters for CNN layers\n",
    "num_units = 128 # Number of units for RNN layers\n",
    "num_heads = 8 # Number of heads for attention layers\n",
    "dropout_rate = 0.1 # Dropout rate for regularization\n",
    "\n",
    "model = Sequential()\n",
    "model.add(Input(shape=(16000, 1)))\n",
    "model.add(MaxPool1D(pool_size=4))\n",
    "model.add(Conv1D(2, kernel_size=3, activation='relu'))\n",
    "model.add(MaxPool1D(pool_size=4))\n",
    "model.add(Conv1D(4, kernel_size=3, activation='relu'))\n",
    "model.add(MaxPool1D(pool_size=4))\n",
    "model.add(Conv1D(8, kernel_size=3, activation='relu'))\n",
    "model.add(MaxPool1D(pool_size=4))\n",
    "model.add(Conv1D(16, kernel_size=3, activation='relu'))\n",
    "model.add(Conv1D(32, kernel_size=3, activation='relu'))\n",
    "model.add(Conv1D(64, kernel_size=3, activation='relu'))\n",
    "model.add(MaxPool1D(pool_size=4))\n",
    "model.add(Flatten())\n",
    "model.add(Dense(16, activation='relu'))\n",
    "model.add(Dense(6, activation='relu'))\n",
    "model.add(Dense(units=num_classes, activation='softmax')) # SoftMax activation needs to be separate from Dense to remove it later on\n",
    "# EXPLORE Learning Rate\n",
    "opt = tf.keras.optimizers.Adam(learning_rate=10e-6)\n",
    "model.summary()\n",
    "model.compile(optimizer=opt, loss='categorical_crossentropy', metrics=['categorical_accuracy'])"
   ]
  },
  {
   "cell_type": "markdown",
   "metadata": {},
   "source": [
    "## Train model"
   ]
  },
  {
   "cell_type": "code",
   "execution_count": 71,
   "metadata": {},
   "outputs": [
    {
     "name": "stdout",
     "output_type": "stream",
     "text": [
      "Epoch 1/50\n",
      "74/74 [==============================] - 3s 20ms/step - loss: 1.3906 - categorical_accuracy: 0.1619 - val_loss: 1.3823 - val_categorical_accuracy: 0.2228\n",
      "Epoch 2/50\n",
      "74/74 [==============================] - 1s 17ms/step - loss: 1.3692 - categorical_accuracy: 0.2789 - val_loss: 1.3561 - val_categorical_accuracy: 0.3641\n",
      "Epoch 3/50\n",
      "74/74 [==============================] - 1s 17ms/step - loss: 1.3497 - categorical_accuracy: 0.3293 - val_loss: 1.3333 - val_categorical_accuracy: 0.4076\n",
      "Epoch 4/50\n",
      "74/74 [==============================] - 1s 17ms/step - loss: 1.3330 - categorical_accuracy: 0.3578 - val_loss: 1.3116 - val_categorical_accuracy: 0.4620\n",
      "Epoch 5/50\n",
      "74/74 [==============================] - 1s 17ms/step - loss: 1.3172 - categorical_accuracy: 0.3837 - val_loss: 1.2921 - val_categorical_accuracy: 0.5054\n",
      "Epoch 6/50\n",
      "74/74 [==============================] - 1s 16ms/step - loss: 1.3013 - categorical_accuracy: 0.4177 - val_loss: 1.2706 - val_categorical_accuracy: 0.5380\n",
      "Epoch 7/50\n",
      "74/74 [==============================] - 1s 15ms/step - loss: 1.2820 - categorical_accuracy: 0.4776 - val_loss: 1.2485 - val_categorical_accuracy: 0.5978\n",
      "Epoch 8/50\n",
      "74/74 [==============================] - 1s 16ms/step - loss: 1.2601 - categorical_accuracy: 0.5551 - val_loss: 1.2258 - val_categorical_accuracy: 0.6522\n",
      "Epoch 9/50\n",
      "74/74 [==============================] - 1s 16ms/step - loss: 1.2401 - categorical_accuracy: 0.6163 - val_loss: 1.2049 - val_categorical_accuracy: 0.7120\n",
      "Epoch 10/50\n",
      "74/74 [==============================] - 1s 16ms/step - loss: 1.2217 - categorical_accuracy: 0.6313 - val_loss: 1.1865 - val_categorical_accuracy: 0.6793\n",
      "Epoch 11/50\n",
      "74/74 [==============================] - 1s 17ms/step - loss: 1.2046 - categorical_accuracy: 0.6218 - val_loss: 1.1678 - val_categorical_accuracy: 0.6413\n",
      "Epoch 12/50\n",
      "74/74 [==============================] - 1s 18ms/step - loss: 1.1888 - categorical_accuracy: 0.6177 - val_loss: 1.1501 - val_categorical_accuracy: 0.6739\n",
      "Epoch 13/50\n",
      "74/74 [==============================] - 1s 18ms/step - loss: 1.1739 - categorical_accuracy: 0.6272 - val_loss: 1.1351 - val_categorical_accuracy: 0.6793\n",
      "Epoch 14/50\n",
      "74/74 [==============================] - 1s 18ms/step - loss: 1.1603 - categorical_accuracy: 0.6381 - val_loss: 1.1201 - val_categorical_accuracy: 0.6793\n",
      "Epoch 15/50\n",
      "74/74 [==============================] - 1s 19ms/step - loss: 1.1472 - categorical_accuracy: 0.6327 - val_loss: 1.1056 - val_categorical_accuracy: 0.6739\n",
      "Epoch 16/50\n",
      "74/74 [==============================] - 1s 17ms/step - loss: 1.1347 - categorical_accuracy: 0.6422 - val_loss: 1.0920 - val_categorical_accuracy: 0.7065\n",
      "Epoch 17/50\n",
      "74/74 [==============================] - 1s 18ms/step - loss: 1.1229 - categorical_accuracy: 0.6408 - val_loss: 1.0796 - val_categorical_accuracy: 0.7011\n",
      "Epoch 18/50\n",
      "74/74 [==============================] - 1s 18ms/step - loss: 1.1108 - categorical_accuracy: 0.6476 - val_loss: 1.0659 - val_categorical_accuracy: 0.7337\n",
      "Epoch 19/50\n",
      "74/74 [==============================] - 1s 20ms/step - loss: 1.0991 - categorical_accuracy: 0.6476 - val_loss: 1.0535 - val_categorical_accuracy: 0.7337\n",
      "Epoch 20/50\n",
      "74/74 [==============================] - 1s 18ms/step - loss: 1.0874 - categorical_accuracy: 0.6544 - val_loss: 1.0425 - val_categorical_accuracy: 0.7283\n",
      "Epoch 21/50\n",
      "74/74 [==============================] - 1s 18ms/step - loss: 1.0758 - categorical_accuracy: 0.6585 - val_loss: 1.0303 - val_categorical_accuracy: 0.7337\n",
      "Epoch 22/50\n",
      "74/74 [==============================] - 1s 18ms/step - loss: 1.0641 - categorical_accuracy: 0.6626 - val_loss: 1.0192 - val_categorical_accuracy: 0.7446\n",
      "Epoch 23/50\n",
      "74/74 [==============================] - 1s 18ms/step - loss: 1.0530 - categorical_accuracy: 0.6585 - val_loss: 1.0084 - val_categorical_accuracy: 0.7446\n",
      "Epoch 24/50\n",
      "74/74 [==============================] - 1s 19ms/step - loss: 1.0418 - categorical_accuracy: 0.6667 - val_loss: 0.9996 - val_categorical_accuracy: 0.7446\n",
      "Epoch 25/50\n",
      "74/74 [==============================] - 1s 18ms/step - loss: 1.0307 - categorical_accuracy: 0.6762 - val_loss: 0.9884 - val_categorical_accuracy: 0.7446\n",
      "Epoch 26/50\n",
      "74/74 [==============================] - 1s 18ms/step - loss: 1.0200 - categorical_accuracy: 0.6707 - val_loss: 0.9786 - val_categorical_accuracy: 0.7446\n",
      "Epoch 27/50\n",
      "74/74 [==============================] - 1s 19ms/step - loss: 1.0092 - categorical_accuracy: 0.6776 - val_loss: 0.9696 - val_categorical_accuracy: 0.7446\n",
      "Epoch 28/50\n",
      "74/74 [==============================] - 1s 19ms/step - loss: 0.9994 - categorical_accuracy: 0.6789 - val_loss: 0.9592 - val_categorical_accuracy: 0.7446\n",
      "Epoch 29/50\n",
      "74/74 [==============================] - 1s 19ms/step - loss: 0.9898 - categorical_accuracy: 0.6803 - val_loss: 0.9495 - val_categorical_accuracy: 0.7446\n",
      "Epoch 30/50\n",
      "74/74 [==============================] - 1s 19ms/step - loss: 0.9804 - categorical_accuracy: 0.6816 - val_loss: 0.9406 - val_categorical_accuracy: 0.7446\n",
      "Epoch 31/50\n",
      "74/74 [==============================] - 1s 18ms/step - loss: 0.9710 - categorical_accuracy: 0.6871 - val_loss: 0.9315 - val_categorical_accuracy: 0.7446\n",
      "Epoch 32/50\n",
      "74/74 [==============================] - 1s 18ms/step - loss: 0.9617 - categorical_accuracy: 0.6884 - val_loss: 0.9254 - val_categorical_accuracy: 0.7446\n",
      "Epoch 33/50\n",
      "74/74 [==============================] - 1s 19ms/step - loss: 0.9534 - categorical_accuracy: 0.6912 - val_loss: 0.9162 - val_categorical_accuracy: 0.7446\n",
      "Epoch 34/50\n",
      "74/74 [==============================] - 1s 18ms/step - loss: 0.9453 - categorical_accuracy: 0.6912 - val_loss: 0.9074 - val_categorical_accuracy: 0.7446\n",
      "Epoch 35/50\n",
      "74/74 [==============================] - 1s 18ms/step - loss: 0.9365 - categorical_accuracy: 0.6925 - val_loss: 0.8993 - val_categorical_accuracy: 0.7500\n",
      "Epoch 36/50\n",
      "74/74 [==============================] - 1s 19ms/step - loss: 0.9286 - categorical_accuracy: 0.6966 - val_loss: 0.8939 - val_categorical_accuracy: 0.7500\n",
      "Epoch 37/50\n",
      "74/74 [==============================] - 1s 19ms/step - loss: 0.9209 - categorical_accuracy: 0.6966 - val_loss: 0.8870 - val_categorical_accuracy: 0.7554\n",
      "Epoch 38/50\n",
      "74/74 [==============================] - 1s 18ms/step - loss: 0.9131 - categorical_accuracy: 0.6980 - val_loss: 0.8775 - val_categorical_accuracy: 0.7663\n",
      "Epoch 39/50\n",
      "74/74 [==============================] - 1s 18ms/step - loss: 0.9059 - categorical_accuracy: 0.6966 - val_loss: 0.8728 - val_categorical_accuracy: 0.7609\n",
      "Epoch 40/50\n",
      "74/74 [==============================] - 1s 18ms/step - loss: 0.8986 - categorical_accuracy: 0.6980 - val_loss: 0.8671 - val_categorical_accuracy: 0.7554\n",
      "Epoch 41/50\n",
      "74/74 [==============================] - 1s 18ms/step - loss: 0.8923 - categorical_accuracy: 0.7034 - val_loss: 0.8590 - val_categorical_accuracy: 0.7772\n",
      "Epoch 42/50\n",
      "74/74 [==============================] - 1s 18ms/step - loss: 0.8845 - categorical_accuracy: 0.7061 - val_loss: 0.8532 - val_categorical_accuracy: 0.7772\n",
      "Epoch 43/50\n",
      "74/74 [==============================] - 1s 18ms/step - loss: 0.8791 - categorical_accuracy: 0.7088 - val_loss: 0.8474 - val_categorical_accuracy: 0.7772\n",
      "Epoch 44/50\n",
      "74/74 [==============================] - 1s 18ms/step - loss: 0.8721 - categorical_accuracy: 0.7116 - val_loss: 0.8428 - val_categorical_accuracy: 0.7717\n",
      "Epoch 45/50\n",
      "74/74 [==============================] - 1s 17ms/step - loss: 0.8658 - categorical_accuracy: 0.7116 - val_loss: 0.8349 - val_categorical_accuracy: 0.7772\n",
      "Epoch 46/50\n",
      "74/74 [==============================] - 1s 17ms/step - loss: 0.8597 - categorical_accuracy: 0.7129 - val_loss: 0.8312 - val_categorical_accuracy: 0.7772\n",
      "Epoch 47/50\n",
      "74/74 [==============================] - 1s 17ms/step - loss: 0.8539 - categorical_accuracy: 0.7129 - val_loss: 0.8244 - val_categorical_accuracy: 0.7826\n",
      "Epoch 48/50\n",
      "74/74 [==============================] - 1s 17ms/step - loss: 0.8483 - categorical_accuracy: 0.7156 - val_loss: 0.8193 - val_categorical_accuracy: 0.7826\n",
      "Epoch 49/50\n",
      "74/74 [==============================] - 1s 17ms/step - loss: 0.8427 - categorical_accuracy: 0.7156 - val_loss: 0.8147 - val_categorical_accuracy: 0.7826\n",
      "Epoch 50/50\n"
     ]
    },
    {
     "name": "stdout",
     "output_type": "stream",
     "text": [
      "74/74 [==============================] - 1s 17ms/step - loss: 0.8386 - categorical_accuracy: 0.7116 - val_loss: 0.8091 - val_categorical_accuracy: 0.7826\n"
     ]
    },
    {
     "data": {
      "text/plain": [
       "<keras.callbacks.History at 0x1e59c4bdd50>"
      ]
     },
     "execution_count": 71,
     "metadata": {},
     "output_type": "execute_result"
    }
   ],
   "source": [
    "model.fit(x_train, y_train, epochs=50, batch_size=10, validation_data=(x_test, y_test))"
   ]
  },
  {
   "cell_type": "markdown",
   "metadata": {},
   "source": [
    "## Evaluate model on test dataset"
   ]
  },
  {
   "cell_type": "code",
   "execution_count": 72,
   "metadata": {},
   "outputs": [
    {
     "name": "stdout",
     "output_type": "stream",
     "text": [
      "6/6 - 0s - loss: 0.8091 - categorical_accuracy: 0.7826 - 89ms/epoch - 15ms/step\n",
      "6/6 [==============================] - 0s 18ms/step\n",
      "tf.Tensor(\n",
      "[[ 0  1  5  1]\n",
      " [ 0  4 25  0]\n",
      " [ 0  1 77  2]\n",
      " [ 0  1  4 63]], shape=(4, 4), dtype=int32)\n"
     ]
    }
   ],
   "source": [
    "model.evaluate(x_test, y_test, verbose=2)\n",
    "pred_test = model.predict(x_test)\n",
    "print(tf.math.confusion_matrix(y_test.argmax(axis=1), pred_test.argmax(axis=1)))"
   ]
  },
  {
   "cell_type": "markdown",
   "metadata": {},
   "source": [
    "## Save trained model"
   ]
  },
  {
   "cell_type": "code",
   "execution_count": 73,
   "metadata": {},
   "outputs": [],
   "source": [
    "model.save('heartbeat_78percent.h5')\n",
    "\n",
    "np.savetxt('x_test.csv', x_test.reshape((x_test.shape[0], -1)), delimiter=',', fmt='%s')\n",
    "np.savetxt('y_test.csv', y_test, delimiter=',', fmt='%s')"
   ]
  },
  {
   "cell_type": "markdown",
   "metadata": {},
   "source": [
    "## Remove SoftMax layer"
   ]
  },
  {
   "cell_type": "code",
   "execution_count": 74,
   "metadata": {},
   "outputs": [],
   "source": [
    "model = tf.keras.Model(model.input, model.layers[-2].output, name=model.name)"
   ]
  },
  {
   "cell_type": "markdown",
   "metadata": {},
   "source": [
    "## Install MicroAI for C inference code generation (kerascnn2c module)"
   ]
  },
  {
   "cell_type": "code",
   "execution_count": 57,
   "metadata": {},
   "outputs": [
    {
     "name": "stdout",
     "output_type": "stream",
     "text": [
      "Collecting https://bitbucket.org/edge-team-leat/microai_public/get/6adfbcb347d3.zip#subdirectory=third_party/kerascnn2c_fixed\n",
      "Note: you may need to restart the kernel to use updated packages.\n"
     ]
    },
    {
     "name": "stderr",
     "output_type": "stream",
     "text": [
      "  WARNING: Retrying (Retry(total=4, connect=None, read=None, redirect=None, status=None)) after connection broken by 'NewConnectionError('<pip._vendor.urllib3.connection.HTTPSConnection object at 0x0000022A67D760E0>: Failed to establish a new connection: [Errno 11001] getaddrinfo failed')': /edge-team-leat/microai_public/get/6adfbcb347d3.zip\n",
      "  WARNING: Retrying (Retry(total=3, connect=None, read=None, redirect=None, status=None)) after connection broken by 'NewConnectionError('<pip._vendor.urllib3.connection.HTTPSConnection object at 0x0000022A67D76410>: Failed to establish a new connection: [Errno 11001] getaddrinfo failed')': /edge-team-leat/microai_public/get/6adfbcb347d3.zip\n",
      "  WARNING: Retrying (Retry(total=2, connect=None, read=None, redirect=None, status=None)) after connection broken by 'NewConnectionError('<pip._vendor.urllib3.connection.HTTPSConnection object at 0x0000022A67D765C0>: Failed to establish a new connection: [Errno 11001] getaddrinfo failed')': /edge-team-leat/microai_public/get/6adfbcb347d3.zip\n",
      "  WARNING: Retrying (Retry(total=1, connect=None, read=None, redirect=None, status=None)) after connection broken by 'NewConnectionError('<pip._vendor.urllib3.connection.HTTPSConnection object at 0x0000022A67D76770>: Failed to establish a new connection: [Errno 11001] getaddrinfo failed')': /edge-team-leat/microai_public/get/6adfbcb347d3.zip\n",
      "  WARNING: Retrying (Retry(total=0, connect=None, read=None, redirect=None, status=None)) after connection broken by 'NewConnectionError('<pip._vendor.urllib3.connection.HTTPSConnection object at 0x0000022A67D76920>: Failed to establish a new connection: [Errno 11001] getaddrinfo failed')': /edge-team-leat/microai_public/get/6adfbcb347d3.zip\n",
      "ERROR: Could not install packages due to an OSError: HTTPSConnectionPool(host='bitbucket.org', port=443): Max retries exceeded with url: /edge-team-leat/microai_public/get/6adfbcb347d3.zip (Caused by NewConnectionError('<pip._vendor.urllib3.connection.HTTPSConnection object at 0x0000022A67D76AD0>: Failed to establish a new connection: [Errno 11001] getaddrinfo failed'))\n",
      "\n",
      "\n",
      "[notice] A new release of pip is available: 23.0.1 -> 23.1.1\n",
      "[notice] To update, run: python.exe -m pip install --upgrade pip\n"
     ]
    }
   ],
   "source": [
    "%pip install https://bitbucket.org/edge-team-leat/microai_public/get/6adfbcb347d3.zip#subdirectory=third_party/kerascnn2c_fixed\n",
    "import kerascnn2c"
   ]
  },
  {
   "cell_type": "markdown",
   "metadata": {
    "tags": []
   },
   "source": [
    "## Generate C code for the trained model with 16-bit fixed-point representation"
   ]
  },
  {
   "cell_type": "code",
   "execution_count": 75,
   "metadata": {},
   "outputs": [
    {
     "name": "stdout",
     "output_type": "stream",
     "text": [
      "———————————————————————————————————————————————————————————————————————————————————————————————————————\n",
      "Inputs                           | Layer                            | Outputs                         \n",
      "———————————————————————————————————————————————————————————————————————————————————————————————————————\n",
      "                                 | input_21                         | max_pooling1d_141               \n",
      "-------------------------------------------------------------------------------------------------------\n",
      "input_21                         | max_pooling1d_141                | conv1d_154                      \n",
      "-------------------------------------------------------------------------------------------------------\n",
      "max_pooling1d_141                | conv1d_154                       | max_pooling1d_142               \n",
      "-------------------------------------------------------------------------------------------------------\n",
      "conv1d_154                       | max_pooling1d_142                | conv1d_155                      \n",
      "-------------------------------------------------------------------------------------------------------\n",
      "max_pooling1d_142                | conv1d_155                       | max_pooling1d_143               \n",
      "-------------------------------------------------------------------------------------------------------\n",
      "conv1d_155                       | max_pooling1d_143                | conv1d_156                      \n",
      "-------------------------------------------------------------------------------------------------------\n",
      "max_pooling1d_143                | conv1d_156                       | max_pooling1d_144               \n",
      "-------------------------------------------------------------------------------------------------------\n",
      "conv1d_156                       | max_pooling1d_144                | conv1d_157                      \n",
      "-------------------------------------------------------------------------------------------------------\n",
      "max_pooling1d_144                | conv1d_157                       | conv1d_158                      \n",
      "-------------------------------------------------------------------------------------------------------\n",
      "conv1d_157                       | conv1d_158                       | conv1d_159                      \n",
      "-------------------------------------------------------------------------------------------------------\n",
      "conv1d_158                       | conv1d_159                       | max_pooling1d_145               \n",
      "-------------------------------------------------------------------------------------------------------\n",
      "conv1d_159                       | max_pooling1d_145                | flatten_20                      \n",
      "-------------------------------------------------------------------------------------------------------\n",
      "max_pooling1d_145                | flatten_20                       | dense_50                        \n",
      "-------------------------------------------------------------------------------------------------------\n",
      "flatten_20                       | dense_50                         | dense_51                        \n",
      "-------------------------------------------------------------------------------------------------------\n",
      "dense_50                         | dense_51                         |                                 \n",
      "-------------------------------------------------------------------------------------------------------\n",
      "\n",
      "After optimization:\n",
      "———————————————————————————————————————————————————————————————————————————————————————————————————————\n",
      "Inputs                           | Layer                            | Outputs                         \n",
      "———————————————————————————————————————————————————————————————————————————————————————————————————————\n",
      "                                 | input_21                         | max_pooling1d_141               \n",
      "-------------------------------------------------------------------------------------------------------\n",
      "input_21                         | max_pooling1d_141                | conv1d_154                      \n",
      "-------------------------------------------------------------------------------------------------------\n",
      "max_pooling1d_141                | conv1d_154                       | max_pooling1d_142               \n",
      "-------------------------------------------------------------------------------------------------------\n",
      "conv1d_154                       | max_pooling1d_142                | conv1d_155                      \n",
      "-------------------------------------------------------------------------------------------------------\n",
      "max_pooling1d_142                | conv1d_155                       | max_pooling1d_143               \n",
      "-------------------------------------------------------------------------------------------------------\n",
      "conv1d_155                       | max_pooling1d_143                | conv1d_156                      \n",
      "-------------------------------------------------------------------------------------------------------\n",
      "max_pooling1d_143                | conv1d_156                       | max_pooling1d_144               \n",
      "-------------------------------------------------------------------------------------------------------\n",
      "conv1d_156                       | max_pooling1d_144                | conv1d_157                      \n",
      "-------------------------------------------------------------------------------------------------------\n",
      "max_pooling1d_144                | conv1d_157                       | conv1d_158                      \n",
      "-------------------------------------------------------------------------------------------------------\n",
      "conv1d_157                       | conv1d_158                       | conv1d_159                      \n",
      "-------------------------------------------------------------------------------------------------------\n",
      "conv1d_158                       | conv1d_159                       | max_pooling1d_145               \n",
      "-------------------------------------------------------------------------------------------------------\n",
      "conv1d_159                       | max_pooling1d_145                | flatten_20                      \n",
      "-------------------------------------------------------------------------------------------------------\n",
      "max_pooling1d_145                | flatten_20                       | dense_50                        \n",
      "-------------------------------------------------------------------------------------------------------\n",
      "flatten_20                       | dense_50                         | dense_51                        \n",
      "-------------------------------------------------------------------------------------------------------\n",
      "dense_50                         | dense_51                         |                                 \n",
      "-------------------------------------------------------------------------------------------------------\n",
      "\n"
     ]
    }
   ],
   "source": [
    "res = kerascnn2c.Converter(output_path=Path('gsc_output_fixed'),\n",
    "                           fixed_point=FIXED_POINT, # Number of bits for the fractional part, Q7.9 format\n",
    "                           number_type='int16_t', # Data type for weights/activations (16 bits quantization)\n",
    "                           long_number_type='int32_t', # Data type for intermediate results\n",
    "                           number_min=-(2**15), # Minimum value for 16-bit signed integers\n",
    "                           number_max=(2**15)-1 # Maximum value for 16-bit signed integers\n",
    "                          ).convert_model(copy.deepcopy(model))\n",
    "with open('full_model.h', 'w') as f:\n",
    "    f.write(res)"
   ]
  },
  {
   "cell_type": "markdown",
   "metadata": {
    "tags": []
   },
   "source": [
    "## Compile the 16-bit fixed-point C code for x86 and evaluate on small dataset"
   ]
  },
  {
   "cell_type": "code",
   "execution_count": 76,
   "metadata": {
    "scrolled": false
   },
   "outputs": [
    {
     "name": "stderr",
     "output_type": "stream",
     "text": [
      "gsc_output_fixed/model.c: In function 'void cnn(const number_t (*)[16000], number_t*)':\n",
      "gsc_output_fixed/model.c:178:18: warning: left operand of comma operator has no effect [-Wunused-value]\n",
      "  178 |     activations1.max_pooling1d_145_output,\n",
      "      |     ~~~~~~~~~~~~~^~~~~~~~~~~~~~~~~~~~~~~~\n",
      "'.' is not recognized as an internal or external command,\n",
      "operable program or batch file.\n"
     ]
    }
   ],
   "source": [
    "!g++ -Wall -Wextra -pedantic -Ofast -o gsc_fixed -Igsc_output_fixed/ gsc_output_fixed/model.c main.cpp \n",
    "!./gsc_fixed x_test.csv y_test.csv"
   ]
  }
 ],
 "metadata": {
  "kernelspec": {
   "display_name": "Python 3 (ipykernel)",
   "language": "python",
   "name": "python3"
  },
  "language_info": {
   "codemirror_mode": {
    "name": "ipython",
    "version": 3
   },
   "file_extension": ".py",
   "mimetype": "text/x-python",
   "name": "python",
   "nbconvert_exporter": "python",
   "pygments_lexer": "ipython3",
   "version": "3.10.7"
  }
 },
 "nbformat": 4,
 "nbformat_minor": 4
}
