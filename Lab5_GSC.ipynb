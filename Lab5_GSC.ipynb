{
 "cells": [
  {
   "cell_type": "markdown",
   "metadata": {},
   "source": [
    "# Lab 5: Google Speech Commands"
   ]
  },
  {
   "cell_type": "markdown",
   "metadata": {
    "tags": []
   },
   "source": [
    "## Imports"
   ]
  },
  {
   "cell_type": "code",
   "execution_count": 1,
   "metadata": {},
   "outputs": [],
   "source": [
    "import copy\n",
    "import wave\n",
    "from pathlib import Path\n",
    "import numpy as np\n",
    "import tensorflow as tf\n",
    "from keras.models import Sequential\n",
    "from keras.layers import Input, Conv1D, AvgPool1D, MaxPool1D, ZeroPadding1D, BatchNormalization, Flatten, Dense, Activation, Dropout\n",
    "from keras.utils.data_utils import get_file\n",
    "from keras.utils.np_utils import to_categorical\n",
    "import math"
   ]
  },
  {
   "cell_type": "markdown",
   "metadata": {},
   "source": [
    "## Download, cache and extract Google Speech Commands"
   ]
  },
  {
   "cell_type": "code",
   "execution_count": 2,
   "metadata": {},
   "outputs": [],
   "source": [
    "dataset_dir = Path('datasets')\n",
    "if not (dataset_dir/'testing_list.txt').exists(): # Assume dataset already downloaded/extracted if testing list is present\n",
    "    get_file(None, \"http://download.tensorflow.org/data/speech_commands_v0.02.tar.gz\",\n",
    "                    extract=True,\n",
    "                    file_hash=\"6b74f3901214cb2c2934e98196829835\",\n",
    "                    cache_dir='.',\n",
    "                    cache_subdir=dataset_dir)"
   ]
  },
  {
   "cell_type": "markdown",
   "metadata": {},
   "source": [
    "## Load raw spoken digits data from Google Speech Commands"
   ]
  },
  {
   "cell_type": "code",
   "execution_count": 1,
   "metadata": {},
   "outputs": [
    {
     "ename": "NameError",
     "evalue": "name 'dataset_dir' is not defined",
     "output_type": "error",
     "traceback": [
      "\u001b[1;31m---------------------------------------------------------------------------\u001b[0m",
      "\u001b[1;31mNameError\u001b[0m                                 Traceback (most recent call last)",
      "Cell \u001b[1;32mIn [1], line 4\u001b[0m\n\u001b[0;32m      1\u001b[0m \u001b[38;5;66;03m# Classes to handle, ordered by label\u001b[39;00m\n\u001b[0;32m      2\u001b[0m CLASSES \u001b[38;5;241m=\u001b[39m [\u001b[38;5;124m'\u001b[39m\u001b[38;5;124mzero\u001b[39m\u001b[38;5;124m'\u001b[39m, \u001b[38;5;124m'\u001b[39m\u001b[38;5;124mone\u001b[39m\u001b[38;5;124m'\u001b[39m, \u001b[38;5;124m'\u001b[39m\u001b[38;5;124mtwo\u001b[39m\u001b[38;5;124m'\u001b[39m, \u001b[38;5;124m'\u001b[39m\u001b[38;5;124mthree\u001b[39m\u001b[38;5;124m'\u001b[39m, \u001b[38;5;124m'\u001b[39m\u001b[38;5;124mfour\u001b[39m\u001b[38;5;124m'\u001b[39m, \u001b[38;5;124m'\u001b[39m\u001b[38;5;124mfive\u001b[39m\u001b[38;5;124m'\u001b[39m, \u001b[38;5;124m'\u001b[39m\u001b[38;5;124msix\u001b[39m\u001b[38;5;124m'\u001b[39m, \u001b[38;5;124m'\u001b[39m\u001b[38;5;124mseven\u001b[39m\u001b[38;5;124m'\u001b[39m, \u001b[38;5;124m'\u001b[39m\u001b[38;5;124meight\u001b[39m\u001b[38;5;124m'\u001b[39m, \u001b[38;5;124m'\u001b[39m\u001b[38;5;124mnine\u001b[39m\u001b[38;5;124m'\u001b[39m]\n\u001b[1;32m----> 4\u001b[0m \u001b[38;5;28;01mwith\u001b[39;00m (\u001b[43mdataset_dir\u001b[49m\u001b[38;5;241m/\u001b[39m\u001b[38;5;124m'\u001b[39m\u001b[38;5;124mtesting_list.txt\u001b[39m\u001b[38;5;124m'\u001b[39m)\u001b[38;5;241m.\u001b[39mopen() \u001b[38;5;28;01mas\u001b[39;00m f:\n\u001b[0;32m      5\u001b[0m     testing_list \u001b[38;5;241m=\u001b[39m f\u001b[38;5;241m.\u001b[39mread()\u001b[38;5;241m.\u001b[39msplitlines()\n\u001b[0;32m      7\u001b[0m x_train \u001b[38;5;241m=\u001b[39m []\n",
      "\u001b[1;31mNameError\u001b[0m: name 'dataset_dir' is not defined"
     ]
    }
   ],
   "source": [
    "# Classes to handle, ordered by label\n",
    "CLASSES = ['zero', 'one', 'two', 'three', 'four', 'five', 'six', 'seven', 'eight', 'nine']\n",
    "\n",
    "with (dataset_dir/'testing_list.txt').open() as f:\n",
    "    testing_list = f.read().splitlines()\n",
    "\n",
    "x_train = []\n",
    "y_train = []\n",
    "x_test = []\n",
    "y_test = []\n",
    "\n",
    "for recording in dataset_dir.glob(f'**/*.wav'):\n",
    "    if not recording.parent.name in CLASSES: # Ignore unused classes\n",
    "        continue\n",
    "    label = CLASSES.index(recording.parent.name) # Assign class number\n",
    "    \n",
    "    with wave.open(str(recording)) as f: # Read wave file\n",
    "        data = np.frombuffer(f.readframes(f.getnframes()), dtype=np.int16).copy() # As 16-bit signed integer\n",
    "        \n",
    "    data = data.astype(np.float32) # Convert to 32-bit floating-point\n",
    "    data.resize((16000, 1)) # Resize to 1s (16kHz) with zero-padding, 1 channel\n",
    "\n",
    "    if str(recording.relative_to(dataset_dir)).replace(\"\\\\\",\"/\") in testing_list: # Assign to test set if file in test list\n",
    "        x_test.append(data)\n",
    "        y_test.append(label)\n",
    "    else:\n",
    "        x_train.append(data)\n",
    "        y_train.append(label)\n",
    "\n",
    "x_train = np.array(x_train)\n",
    "y_train = to_categorical(np.array(y_train))\n",
    "\n",
    "x_test = np.array(x_test)\n",
    "y_test = to_categorical(np.array(y_test))"
   ]
  },
  {
   "cell_type": "markdown",
   "metadata": {},
   "source": [
    "## Prepare for inference with fixed-point Q7.9 samples by scaling input data accordingly"
   ]
  },
  {
   "cell_type": "code",
   "execution_count": 4,
   "metadata": {},
   "outputs": [],
   "source": [
    "FIXED_POINT = 9\n",
    "x_train /= 2**FIXED_POINT\n",
    "x_test  /= 2**FIXED_POINT"
   ]
  },
  {
   "cell_type": "markdown",
   "metadata": {},
   "source": [
    "## Export small dataset (250 random vectors)"
   ]
  },
  {
   "cell_type": "code",
   "execution_count": 5,
   "metadata": {},
   "outputs": [],
   "source": [
    "perms = np.random.permutation(len(y_test))[0:250]\n",
    "x_test_250 = x_test[perms]\n",
    "y_test_250 = y_test[perms]\n",
    "np.savetxt('x_test_gsc_250.csv', x_test_250.reshape((x_test_250.shape[0], -1)), delimiter=',', fmt='%s')\n",
    "np.savetxt('y_test_gsc_250.csv', y_test_250, delimiter=',', fmt='%s')"
   ]
  },
  {
   "cell_type": "markdown",
   "metadata": {
    "tags": []
   },
   "source": [
    "## Build model *not* M5"
   ]
  },
  {
   "cell_type": "code",
   "execution_count": 6,
   "metadata": {},
   "outputs": [
    {
     "name": "stdout",
     "output_type": "stream",
     "text": [
      "Model: \"sequential\"\n",
      "_________________________________________________________________\n",
      " Layer (type)                Output Shape              Param #   \n",
      "=================================================================\n",
      " max_pooling1d (MaxPooling1D  (None, 4000, 1)          0         \n",
      " )                                                               \n",
      "                                                                 \n",
      " conv1d (Conv1D)             (None, 3998, 2)           8         \n",
      "                                                                 \n",
      " max_pooling1d_1 (MaxPooling  (None, 999, 2)           0         \n",
      " 1D)                                                             \n",
      "                                                                 \n",
      " conv1d_1 (Conv1D)           (None, 997, 2)            14        \n",
      "                                                                 \n",
      " max_pooling1d_2 (MaxPooling  (None, 249, 2)           0         \n",
      " 1D)                                                             \n",
      "                                                                 \n",
      " conv1d_2 (Conv1D)           (None, 247, 2)            14        \n",
      "                                                                 \n",
      " flatten (Flatten)           (None, 494)               0         \n",
      "                                                                 \n",
      " dense (Dense)               (None, 50)                24750     \n",
      "                                                                 \n",
      " dense_1 (Dense)             (None, 35)                1785      \n",
      "                                                                 \n",
      " dense_2 (Dense)             (None, 16)                576       \n",
      "                                                                 \n",
      " dense_3 (Dense)             (None, 10)                170       \n",
      "                                                                 \n",
      " activation (Activation)     (None, 10)                0         \n",
      "                                                                 \n",
      "=================================================================\n",
      "Total params: 27,317\n",
      "Trainable params: 27,317\n",
      "Non-trainable params: 0\n",
      "_________________________________________________________________\n"
     ]
    }
   ],
   "source": [
    "# Define hyperparameters\n",
    "num_classes = 10 # Number of sound classes\n",
    "num_filters = 2 # Number of filters for CNN layers\n",
    "num_units = 128 # Number of units for RNN layers\n",
    "num_heads = 8 # Number of heads for attention layers\n",
    "dropout_rate = 0.1 # Dropout rate for regularization\n",
    "\n",
    "model = Sequential()\n",
    "model.add(Input(shape=(16000, 1)))\n",
    "model.add(MaxPool1D(pool_size=(4)))\n",
    "model.add(Conv1D(filters=num_filters, kernel_size=3, activation='relu'))\n",
    "model.add(MaxPool1D(pool_size=(4)))\n",
    "model.add(Conv1D(filters=num_filters, kernel_size=3, activation='relu'))\n",
    "model.add(MaxPool1D(pool_size=(4)))\n",
    "model.add(Conv1D(filters=num_filters, kernel_size=3, activation='relu'))\n",
    "model.add(Flatten())\n",
    "model.add(Dense(units=50, activation='relu'))\n",
    "model.add(Dense(units=35, activation='relu'))\n",
    "model.add(Dense(units=16, activation='relu'))\n",
    "model.add(Dense(units=num_classes, activation='relu'))\n",
    "model.add(Activation('softmax')) # SoftMax activation needs to be separate from Dense to remove it later on\n",
    "# EXPLORE Learning Rate\n",
    "opt = tf.keras.optimizers.Adam(learning_rate=10e-3)\n",
    "model.summary()\n",
    "model.compile(optimizer=opt, loss='categorical_crossentropy', metrics=['categorical_accuracy'])"
   ]
  },
  {
   "cell_type": "markdown",
   "metadata": {},
   "source": [
    "## Train model"
   ]
  },
  {
   "cell_type": "code",
   "execution_count": 7,
   "metadata": {},
   "outputs": [
    {
     "name": "stdout",
     "output_type": "stream",
     "text": [
      "Epoch 1/30\n",
      "91/91 [==============================] - 25s 263ms/step - loss: 2.2501 - categorical_accuracy: 0.1667 - val_loss: 2.1481 - val_categorical_accuracy: 0.2235\n",
      "Epoch 2/30\n",
      "91/91 [==============================] - 23s 258ms/step - loss: 2.0413 - categorical_accuracy: 0.2743 - val_loss: 1.9747 - val_categorical_accuracy: 0.3005\n",
      "Epoch 3/30\n",
      "91/91 [==============================] - 24s 260ms/step - loss: 1.9295 - categorical_accuracy: 0.3214 - val_loss: 1.8955 - val_categorical_accuracy: 0.3414\n",
      "Epoch 4/30\n",
      "91/91 [==============================] - 23s 258ms/step - loss: 1.8294 - categorical_accuracy: 0.3740 - val_loss: 1.8424 - val_categorical_accuracy: 0.3611\n",
      "Epoch 5/30\n",
      "91/91 [==============================] - 24s 259ms/step - loss: 1.7605 - categorical_accuracy: 0.4040 - val_loss: 1.8205 - val_categorical_accuracy: 0.3762\n",
      "Epoch 6/30\n",
      "91/91 [==============================] - 24s 260ms/step - loss: 1.7114 - categorical_accuracy: 0.4227 - val_loss: 1.7894 - val_categorical_accuracy: 0.3942\n",
      "Epoch 7/30\n",
      "91/91 [==============================] - 24s 259ms/step - loss: 1.6868 - categorical_accuracy: 0.4323 - val_loss: 1.7706 - val_categorical_accuracy: 0.3976\n",
      "Epoch 8/30\n",
      "91/91 [==============================] - 24s 260ms/step - loss: 1.6537 - categorical_accuracy: 0.4471 - val_loss: 1.7639 - val_categorical_accuracy: 0.4003\n",
      "Epoch 9/30\n",
      "91/91 [==============================] - 24s 268ms/step - loss: 1.6183 - categorical_accuracy: 0.4600 - val_loss: 1.8074 - val_categorical_accuracy: 0.3913\n",
      "Epoch 10/30\n",
      "91/91 [==============================] - 24s 265ms/step - loss: 1.5899 - categorical_accuracy: 0.4735 - val_loss: 1.7693 - val_categorical_accuracy: 0.4127\n",
      "Epoch 11/30\n",
      "91/91 [==============================] - 24s 265ms/step - loss: 1.5747 - categorical_accuracy: 0.4778 - val_loss: 1.7711 - val_categorical_accuracy: 0.4159\n",
      "Epoch 12/30\n",
      "91/91 [==============================] - 24s 265ms/step - loss: 1.5519 - categorical_accuracy: 0.4859 - val_loss: 1.7889 - val_categorical_accuracy: 0.3983\n",
      "Epoch 13/30\n",
      "91/91 [==============================] - 24s 262ms/step - loss: 1.5441 - categorical_accuracy: 0.4891 - val_loss: 1.8016 - val_categorical_accuracy: 0.4110\n",
      "Epoch 14/30\n",
      "91/91 [==============================] - 24s 269ms/step - loss: 1.5157 - categorical_accuracy: 0.5005 - val_loss: 1.7986 - val_categorical_accuracy: 0.4239\n",
      "Epoch 15/30\n",
      "91/91 [==============================] - 24s 262ms/step - loss: 1.5020 - categorical_accuracy: 0.5046 - val_loss: 1.8146 - val_categorical_accuracy: 0.4117\n",
      "Epoch 16/30\n",
      "91/91 [==============================] - 25s 278ms/step - loss: 1.4890 - categorical_accuracy: 0.5098 - val_loss: 1.8210 - val_categorical_accuracy: 0.4237\n",
      "Epoch 17/30\n",
      "91/91 [==============================] - 25s 276ms/step - loss: 1.4732 - categorical_accuracy: 0.5173 - val_loss: 1.8098 - val_categorical_accuracy: 0.4166\n",
      "Epoch 18/30\n",
      "91/91 [==============================] - 25s 272ms/step - loss: 1.4656 - categorical_accuracy: 0.5202 - val_loss: 1.8291 - val_categorical_accuracy: 0.4198\n",
      "Epoch 19/30\n",
      "91/91 [==============================] - 25s 271ms/step - loss: 1.4488 - categorical_accuracy: 0.5277 - val_loss: 1.8335 - val_categorical_accuracy: 0.4139\n",
      "Epoch 20/30\n",
      "91/91 [==============================] - 25s 274ms/step - loss: 1.4536 - categorical_accuracy: 0.5247 - val_loss: 1.8412 - val_categorical_accuracy: 0.4098\n",
      "Epoch 21/30\n",
      "91/91 [==============================] - 25s 273ms/step - loss: 1.4350 - categorical_accuracy: 0.5303 - val_loss: 1.8220 - val_categorical_accuracy: 0.4198\n",
      "Epoch 22/30\n",
      "91/91 [==============================] - 25s 280ms/step - loss: 1.3930 - categorical_accuracy: 0.5404 - val_loss: 1.8319 - val_categorical_accuracy: 0.4200\n",
      "Epoch 23/30\n",
      "91/91 [==============================] - 25s 271ms/step - loss: 1.3665 - categorical_accuracy: 0.5458 - val_loss: 1.8029 - val_categorical_accuracy: 0.4307\n",
      "Epoch 24/30\n",
      "91/91 [==============================] - 25s 271ms/step - loss: 1.3326 - categorical_accuracy: 0.5594 - val_loss: 1.8436 - val_categorical_accuracy: 0.4280\n",
      "Epoch 25/30\n",
      "91/91 [==============================] - 25s 274ms/step - loss: 1.3194 - categorical_accuracy: 0.5633 - val_loss: 1.8371 - val_categorical_accuracy: 0.4276\n",
      "Epoch 26/30\n",
      "91/91 [==============================] - 25s 273ms/step - loss: 1.3107 - categorical_accuracy: 0.5656 - val_loss: 1.8170 - val_categorical_accuracy: 0.4312\n",
      "Epoch 27/30\n",
      "91/91 [==============================] - 26s 282ms/step - loss: 1.3052 - categorical_accuracy: 0.5681 - val_loss: 1.8203 - val_categorical_accuracy: 0.4217\n",
      "Epoch 28/30\n",
      "91/91 [==============================] - 24s 269ms/step - loss: 1.2985 - categorical_accuracy: 0.5754 - val_loss: 1.8960 - val_categorical_accuracy: 0.4273\n",
      "Epoch 29/30\n",
      "91/91 [==============================] - 24s 261ms/step - loss: 1.2936 - categorical_accuracy: 0.5732 - val_loss: 1.9099 - val_categorical_accuracy: 0.4159\n",
      "Epoch 30/30\n",
      "91/91 [==============================] - 23s 248ms/step - loss: 1.2751 - categorical_accuracy: 0.5781 - val_loss: 1.8810 - val_categorical_accuracy: 0.4283\n"
     ]
    },
    {
     "data": {
      "text/plain": [
       "<keras.callbacks.History at 0x165ffd7ead0>"
      ]
     },
     "execution_count": 7,
     "metadata": {},
     "output_type": "execute_result"
    }
   ],
   "source": [
    "model.fit(x_train, y_train, epochs=30, batch_size=384, validation_data=(x_test, y_test))"
   ]
  },
  {
   "cell_type": "markdown",
   "metadata": {},
   "source": [
    "## Evaluate model on test dataset"
   ]
  },
  {
   "cell_type": "code",
   "execution_count": 26,
   "metadata": {},
   "outputs": [
    {
     "name": "stdout",
     "output_type": "stream",
     "text": [
      "13\n",
      "13\n"
     ]
    }
   ],
   "source": [
    "# get new test data from board\n",
    "x_test.shape\n",
    "x_test_board = []\n",
    "y_test_board = []\n",
    "\n",
    "dataset_dir_board = Path('board_dataset')\n",
    "\n",
    "for recording in dataset_dir_board.glob(f'**/*.wav'):\n",
    "    if not recording.parent.name in CLASSES: # Ignore unused classes\n",
    "        continue\n",
    "    label = CLASSES.index(recording.parent.name) # Assign class number\n",
    "    \n",
    "    with wave.open(str(recording)) as f: # Read wave file\n",
    "        data = np.frombuffer(f.readframes(f.getnframes()), dtype=np.int16).copy() # As 16-bit signed integer\n",
    "        \n",
    "    data = data.astype(np.float32) # Convert to 32-bit floating-point\n",
    "    data.resize((16000, 1)) # Resize to 1s (16kHz) with zero-padding, 1 channel\n",
    "    \n",
    "    x_test_board.append(data)\n",
    "    y_test_board.append(label)\n",
    "\n",
    "print(len(x_test_board))\n",
    "print(len(y_test_board))\n",
    "\n",
    "x_test_board = np.array(x_test_board)\n",
    "y_test_board = to_categorical(np.array(y_test_board))\n",
    "\n",
    "FIXED_POINT = 9\n",
    "x_test_board  /= 2**FIXED_POINT\n",
    "\n",
    "# model.evaluate(x_test, y_test, verbose=2)\n",
    "# pred_test = model.predict(x_test)\n",
    "# print(tf.math.confusion_matrix(y_test.argmax(axis=1), pred_test.argmax(axis=1)))"
   ]
  },
  {
   "cell_type": "code",
   "execution_count": 27,
   "metadata": {},
   "outputs": [
    {
     "name": "stdout",
     "output_type": "stream",
     "text": [
      "1/1 - 0s - loss: 2.7966 - categorical_accuracy: 0.2308 - 32ms/epoch - 32ms/step\n",
      "1/1 [==============================] - 0s 169ms/step\n",
      "tf.Tensor(\n",
      "[[0 0 1 0 0 0 0 0 0 0]\n",
      " [0 1 0 0 0 0 0 0 0 0]\n",
      " [0 1 1 0 0 0 0 0 0 0]\n",
      " [0 1 0 0 0 0 0 0 0 0]\n",
      " [0 0 0 0 0 1 0 0 0 0]\n",
      " [0 0 0 0 0 0 0 0 0 1]\n",
      " [0 0 1 0 0 0 0 0 0 0]\n",
      " [0 0 1 0 0 1 0 0 0 0]\n",
      " [0 0 0 0 0 0 0 0 1 0]\n",
      " [0 1 0 0 0 0 0 0 1 0]], shape=(10, 10), dtype=int32)\n"
     ]
    }
   ],
   "source": [
    "model.evaluate(x_test_board, y_test_board, verbose=2)\n",
    "pred_test_board = model.predict(x_test_board)\n",
    "print(tf.math.confusion_matrix(y_test_board.argmax(axis=1), pred_test_board.argmax(axis=1)))"
   ]
  },
  {
   "cell_type": "markdown",
   "metadata": {
    "tags": []
   },
   "source": [
    "## Evaluate model on small dataset"
   ]
  },
  {
   "cell_type": "code",
   "execution_count": 20,
   "metadata": {},
   "outputs": [
    {
     "name": "stdout",
     "output_type": "stream",
     "text": [
      "8/8 - 0s - loss: 1.7559 - categorical_accuracy: 0.3280 - 122ms/epoch - 15ms/step\n",
      "8/8 [==============================] - 0s 17ms/step\n",
      "tf.Tensor(\n",
      "[[14  0  0  0  4  0  1  0  0  0]\n",
      " [ 4  3  0  0  2  6  0  2  0  3]\n",
      " [17  0  0  0  2  0  0  0  0  0]\n",
      " [14  0  0  0  2  0  5  1  0  0]\n",
      " [ 7  2  0  0 10  3  0  2  0  2]\n",
      " [ 1  6  0  0  2 21  1  4  0  2]\n",
      " [ 4  0  0  0  0  0 21  0  0  0]\n",
      " [ 6  3  0  0  4  2  0 12  0  2]\n",
      " [23  1  0  0  1  0  4  2  0  1]\n",
      " [ 1  6  0  0  4  7  1  1  0  1]], shape=(10, 10), dtype=int32)\n"
     ]
    }
   ],
   "source": [
    "model.evaluate(x_test_250, y_test_250, verbose=2)\n",
    "pred_test_250 = model.predict(x_test_250)\n",
    "print(tf.math.confusion_matrix(y_test_250.argmax(axis=1), pred_test_250.argmax(axis=1)))"
   ]
  },
  {
   "cell_type": "markdown",
   "metadata": {},
   "source": [
    "## Save trained model"
   ]
  },
  {
   "cell_type": "code",
   "execution_count": 91,
   "metadata": {},
   "outputs": [],
   "source": [
    "model.save('lab_gsc.h5')"
   ]
  },
  {
   "cell_type": "markdown",
   "metadata": {},
   "source": [
    "## Remove SoftMax layer"
   ]
  },
  {
   "cell_type": "code",
   "execution_count": 92,
   "metadata": {},
   "outputs": [],
   "source": [
    "model = tf.keras.Model(model.input, model.layers[-2].output, name=model.name)"
   ]
  },
  {
   "cell_type": "markdown",
   "metadata": {},
   "source": [
    "## Install MicroAI for C inference code generation (kerascnn2c module)"
   ]
  },
  {
   "cell_type": "code",
   "execution_count": 93,
   "metadata": {},
   "outputs": [
    {
     "name": "stdout",
     "output_type": "stream",
     "text": [
      "Collecting https://bitbucket.org/edge-team-leat/microai_public/get/6adfbcb347d3.zip#subdirectory=third_party/kerascnn2c_fixed\n",
      "  Downloading https://bitbucket.org/edge-team-leat/microai_public/get/6adfbcb347d3.zip (1.9 MB)\n",
      "     ---------------------------------------- 1.9/1.9 MB 4.5 MB/s eta 0:00:00\n",
      "  Preparing metadata (setup.py): started\n",
      "  Preparing metadata (setup.py): finished with status 'done'\n",
      "Requirement already satisfied: numpy in c:\\users\\siman\\appdata\\local\\programs\\python\\python310\\lib\\site-packages (from kerascnn2c==1.0.0) (1.23.5)\n",
      "Requirement already satisfied: jinja2 in c:\\users\\siman\\appdata\\local\\programs\\python\\python310\\lib\\site-packages (from kerascnn2c==1.0.0) (3.1.2)\n",
      "Requirement already satisfied: MarkupSafe>=2.0 in c:\\users\\siman\\appdata\\local\\programs\\python\\python310\\lib\\site-packages (from jinja2->kerascnn2c==1.0.0) (2.1.1)\n",
      "Note: you may need to restart the kernel to use updated packages.\n"
     ]
    }
   ],
   "source": [
    "%pip install https://bitbucket.org/edge-team-leat/microai_public/get/6adfbcb347d3.zip#subdirectory=third_party/kerascnn2c_fixed\n",
    "import kerascnn2c"
   ]
  },
  {
   "cell_type": "markdown",
   "metadata": {
    "tags": []
   },
   "source": [
    "## Generate C code for the trained model with 16-bit fixed-point representation"
   ]
  },
  {
   "cell_type": "code",
   "execution_count": 94,
   "metadata": {},
   "outputs": [
    {
     "name": "stdout",
     "output_type": "stream",
     "text": [
      "———————————————————————————————————————————————————————————————————————————————————————————————————————\n",
      "Inputs                           | Layer                            | Outputs                         \n",
      "———————————————————————————————————————————————————————————————————————————————————————————————————————\n",
      "                                 | input_21                         | max_pooling1d_46                \n",
      "-------------------------------------------------------------------------------------------------------\n",
      "input_21                         | max_pooling1d_46                 | conv1d_54                       \n",
      "-------------------------------------------------------------------------------------------------------\n",
      "max_pooling1d_46                 | conv1d_54                        | max_pooling1d_47                \n",
      "-------------------------------------------------------------------------------------------------------\n",
      "conv1d_54                        | max_pooling1d_47                 | conv1d_55                       \n",
      "-------------------------------------------------------------------------------------------------------\n",
      "max_pooling1d_47                 | conv1d_55                        | max_pooling1d_48                \n",
      "-------------------------------------------------------------------------------------------------------\n",
      "conv1d_55                        | max_pooling1d_48                 | conv1d_56                       \n",
      "-------------------------------------------------------------------------------------------------------\n",
      "max_pooling1d_48                 | conv1d_56                        | average_pooling1d_11            \n",
      "-------------------------------------------------------------------------------------------------------\n",
      "conv1d_56                        | average_pooling1d_11             | flatten_20                      \n",
      "-------------------------------------------------------------------------------------------------------\n",
      "average_pooling1d_11             | flatten_20                       | dense_19                        \n",
      "-------------------------------------------------------------------------------------------------------\n",
      "flatten_20                       | dense_19                         |                                 \n",
      "-------------------------------------------------------------------------------------------------------\n",
      "\n",
      "After optimization:\n",
      "———————————————————————————————————————————————————————————————————————————————————————————————————————\n",
      "Inputs                           | Layer                            | Outputs                         \n",
      "———————————————————————————————————————————————————————————————————————————————————————————————————————\n",
      "                                 | input_21                         | max_pooling1d_46                \n",
      "-------------------------------------------------------------------------------------------------------\n",
      "input_21                         | max_pooling1d_46                 | conv1d_54                       \n",
      "-------------------------------------------------------------------------------------------------------\n",
      "max_pooling1d_46                 | conv1d_54                        | max_pooling1d_47                \n",
      "-------------------------------------------------------------------------------------------------------\n",
      "conv1d_54                        | max_pooling1d_47                 | conv1d_55                       \n",
      "-------------------------------------------------------------------------------------------------------\n",
      "max_pooling1d_47                 | conv1d_55                        | max_pooling1d_48                \n",
      "-------------------------------------------------------------------------------------------------------\n",
      "conv1d_55                        | max_pooling1d_48                 | conv1d_56                       \n",
      "-------------------------------------------------------------------------------------------------------\n",
      "max_pooling1d_48                 | conv1d_56                        | average_pooling1d_11            \n",
      "-------------------------------------------------------------------------------------------------------\n",
      "conv1d_56                        | average_pooling1d_11             | flatten_20                      \n",
      "-------------------------------------------------------------------------------------------------------\n",
      "average_pooling1d_11             | flatten_20                       | dense_19                        \n",
      "-------------------------------------------------------------------------------------------------------\n",
      "flatten_20                       | dense_19                         |                                 \n",
      "-------------------------------------------------------------------------------------------------------\n",
      "\n"
     ]
    }
   ],
   "source": [
    "res = kerascnn2c.Converter(output_path=Path('gsc_output_fixed'),\n",
    "                           fixed_point=FIXED_POINT, # Number of bits for the fractional part, Q7.9 format\n",
    "                           number_type='int16_t', # Data type for weights/activations (16 bits quantization)\n",
    "                           long_number_type='int32_t', # Data type for intermediate results\n",
    "                           number_min=-(2**15), # Minimum value for 16-bit signed integers\n",
    "                           number_max=(2**15)-1 # Maximum value for 16-bit signed integers\n",
    "                          ).convert_model(copy.deepcopy(model))\n",
    "with open('gsc_model_fixed.h', 'w') as f:\n",
    "    f.write(res)"
   ]
  },
  {
   "cell_type": "markdown",
   "metadata": {
    "tags": []
   },
   "source": [
    "## Compile the 16-bit fixed-point C code for x86 and evaluate on small dataset"
   ]
  },
  {
   "cell_type": "code",
   "execution_count": 95,
   "metadata": {
    "scrolled": false
   },
   "outputs": [
    {
     "name": "stderr",
     "output_type": "stream",
     "text": [
      "gsc_output_fixed/model.c: In function 'void cnn(const number_t (*)[16000], number_t*)':\n",
      "gsc_output_fixed/model.c:124:18: warning: left operand of comma operator has no effect [-Wunused-value]\n",
      "  124 |     activations1.average_pooling1d_11_output,\n",
      "      |     ~~~~~~~~~~~~~^~~~~~~~~~~~~~~~~~~~~~~~~~~\n",
      "'.' is not recognized as an internal or external command,\n",
      "operable program or batch file.\n"
     ]
    }
   ],
   "source": [
    "!g++ -Wall -Wextra -pedantic -Ofast -o gsc_fixed -Igsc_output_fixed/ gsc_output_fixed/model.c main.cpp \n",
    "!./gsc_fixed x_test_gsc_250.csv y_test_gsc_250.csv"
   ]
  },
  {
   "cell_type": "code",
   "execution_count": null,
   "metadata": {},
   "outputs": [],
   "source": []
  },
  {
   "cell_type": "code",
   "execution_count": null,
   "metadata": {},
   "outputs": [],
   "source": []
  },
  {
   "cell_type": "code",
   "execution_count": 66,
   "metadata": {},
   "outputs": [
    {
     "name": "stdout",
     "output_type": "stream",
     "text": [
      "(255, 16000, 1)\n",
      "(255, 3)\n",
      "(64, 16000, 1)\n",
      "(64, 3)\n"
     ]
    }
   ],
   "source": [
    "# Load new dataset\n",
    "# get new test data from board\n",
    "x_train_sapcm = []\n",
    "y_train_sapcm = []\n",
    "x_test_sapcm = []\n",
    "y_test_sapcm = []\n",
    "\n",
    "dataset_dir_sapcm = Path('dataset_sapcm')\n",
    "\n",
    "CLASSES_SAPCM = [\"Wednesday\", \"Purple\", \"Sunrise\"]\n",
    "\n",
    "with Path('dataset_sapcm/testing_list_sapcm.txt').open() as f:\n",
    "    testing_list_sapcm = f.read().splitlines()\n",
    "    \n",
    "for recording in dataset_dir_sapcm.glob(f'**/*.wav'):\n",
    "    if not recording.parent.name in CLASSES_SAPCM: # Ignore unused classes\n",
    "        continue\n",
    "    label = CLASSES_SAPCM.index(recording.parent.name) # Assign class number\n",
    "    \n",
    "    with wave.open(str(recording)) as f: # Read wave file\n",
    "        data = np.frombuffer(f.readframes(f.getnframes()), dtype=np.int16).copy() # As 16-bit signed integer\n",
    "        \n",
    "    data = data.astype(np.float32) # Convert to 32-bit floating-point\n",
    "    data.resize((16000, 1)) # Resize to 1s (16kHz) with zero-padding, 1 channel\n",
    "    \n",
    "    x_train_sapcm.append(data)\n",
    "    y_train_sapcm.append(label)\n",
    "    \n",
    "x_train_sapcm = np.array(x_train_sapcm)\n",
    "y_train_sapcm = to_categorical(np.array(y_train_sapcm))\n",
    "\n",
    "perms = np.random.permutation(len(y_train_sapcm))[0:math.ceil(len(y_train_sapcm)*0.2)]\n",
    "x_test_sapcm = x_train_sapcm[perms]\n",
    "y_test_sapcm = y_train_sapcm[perms]\n",
    "\n",
    "x_train_sapcm = np.delete(x_train_sapcm, perms, axis=0)\n",
    "y_train_sapcm = np.delete(y_train_sapcm, perms, axis=0)\n",
    "\n",
    "x_test_sapcm = np.array(x_test_sapcm)\n",
    "y_test_sapcm = np.array(y_test_sapcm)\n",
    "\n",
    "FIXED_POINT = 9\n",
    "x_train_sapcm /= 2**FIXED_POINT\n",
    "x_test_sapcm  /= 2**FIXED_POINT\n",
    "\n",
    "print(x_train_sapcm.shape)\n",
    "print(y_train_sapcm.shape)\n",
    "print(x_test_sapcm.shape)\n",
    "print(y_test_sapcm.shape)\n"
   ]
  },
  {
   "cell_type": "code",
   "execution_count": 55,
   "metadata": {
    "scrolled": true
   },
   "outputs": [
    {
     "name": "stdout",
     "output_type": "stream",
     "text": [
      "Model: \"sequential_2\"\n",
      "_________________________________________________________________\n",
      " Layer (type)                Output Shape              Param #   \n",
      "=================================================================\n",
      " max_pooling1d_6 (MaxPooling  (None, 4000, 1)          0         \n",
      " 1D)                                                             \n",
      "                                                                 \n",
      " conv1d_6 (Conv1D)           (None, 3998, 2)           8         \n",
      "                                                                 \n",
      " max_pooling1d_7 (MaxPooling  (None, 999, 2)           0         \n",
      " 1D)                                                             \n",
      "                                                                 \n",
      " conv1d_7 (Conv1D)           (None, 997, 2)            14        \n",
      "                                                                 \n",
      " max_pooling1d_8 (MaxPooling  (None, 249, 2)           0         \n",
      " 1D)                                                             \n",
      "                                                                 \n",
      " conv1d_8 (Conv1D)           (None, 247, 2)            14        \n",
      "                                                                 \n",
      " flatten_2 (Flatten)         (None, 494)               0         \n",
      "                                                                 \n",
      " dense_7 (Dense)             (None, 50)                24750     \n",
      "                                                                 \n",
      " dense_8 (Dense)             (None, 35)                1785      \n",
      "                                                                 \n",
      " dense_9 (Dense)             (None, 16)                576       \n",
      "                                                                 \n",
      " dense_10 (Dense)            (None, 3)                 51        \n",
      "                                                                 \n",
      " activation_1 (Activation)   (None, 3)                 0         \n",
      "                                                                 \n",
      "=================================================================\n",
      "Total params: 27,198\n",
      "Trainable params: 27,198\n",
      "Non-trainable params: 0\n",
      "_________________________________________________________________\n"
     ]
    }
   ],
   "source": [
    "# Define hyperparameters\n",
    "num_classes = 3 # Number of sound classes\n",
    "num_filters = 2 # Number of filters for CNN layers\n",
    "num_units = 128 # Number of units for RNN layers\n",
    "num_heads = 8 # Number of heads for attention layers\n",
    "dropout_rate = 0.1 # Dropout rate for regularization\n",
    "\n",
    "model1 = Sequential()\n",
    "model1.add(Input(shape=(16000, 1)))\n",
    "model1.add(MaxPool1D(pool_size=(4)))\n",
    "model1.add(Conv1D(filters=num_filters, kernel_size=3, activation='relu'))\n",
    "model1.add(MaxPool1D(pool_size=(4)))\n",
    "model1.add(Conv1D(filters=num_filters, kernel_size=3, activation='relu'))\n",
    "model1.add(MaxPool1D(pool_size=(4)))\n",
    "model1.add(Conv1D(filters=num_filters, kernel_size=3, activation='relu'))\n",
    "model1.add(Flatten())\n",
    "model1.add(Dense(units=50, activation='relu'))\n",
    "model1.add(Dense(units=35, activation='relu'))\n",
    "model1.add(Dense(units=16, activation='relu'))\n",
    "model1.add(Dense(units=num_classes, activation='relu'))\n",
    "model1.add(Activation('softmax')) # SoftMax activation needs to be separate from Dense to remove it later on\n",
    "# EXPLORE Learning Rate\n",
    "opt = tf.keras.optimizers.Adam(learning_rate=10e-4)\n",
    "model1.summary()\n",
    "model1.compile(optimizer=opt, loss='categorical_crossentropy', metrics=['categorical_accuracy'])"
   ]
  },
  {
   "cell_type": "code",
   "execution_count": 69,
   "metadata": {},
   "outputs": [
    {
     "name": "stdout",
     "output_type": "stream",
     "text": [
      "Model: \"sequential_6\"\n",
      "_________________________________________________________________\n",
      " Layer (type)                Output Shape              Param #   \n",
      "=================================================================\n",
      " max_pooling1d_18 (MaxPoolin  (None, 4000, 1)          0         \n",
      " g1D)                                                            \n",
      "                                                                 \n",
      " conv1d_18 (Conv1D)          (None, 3996, 64)          384       \n",
      "                                                                 \n",
      " max_pooling1d_19 (MaxPoolin  (None, 999, 64)          0         \n",
      " g1D)                                                            \n",
      "                                                                 \n",
      " conv1d_19 (Conv1D)          (None, 995, 128)          41088     \n",
      "                                                                 \n",
      " max_pooling1d_20 (MaxPoolin  (None, 248, 128)         0         \n",
      " g1D)                                                            \n",
      "                                                                 \n",
      " conv1d_20 (Conv1D)          (None, 244, 256)          164096    \n",
      "                                                                 \n",
      " flatten_6 (Flatten)         (None, 62464)             0         \n",
      "                                                                 \n",
      " dense_20 (Dense)            (None, 256)               15991040  \n",
      "                                                                 \n",
      " dropout_8 (Dropout)         (None, 256)               0         \n",
      "                                                                 \n",
      " dense_21 (Dense)            (None, 128)               32896     \n",
      "                                                                 \n",
      " dropout_9 (Dropout)         (None, 128)               0         \n",
      "                                                                 \n",
      " dense_22 (Dense)            (None, 3)                 387       \n",
      "                                                                 \n",
      "=================================================================\n",
      "Total params: 16,229,891\n",
      "Trainable params: 16,229,891\n",
      "Non-trainable params: 0\n",
      "_________________________________________________________________\n"
     ]
    }
   ],
   "source": [
    "# Define hyperparameters\n",
    "num_classes = 3 # Number of sound classes\n",
    "num_filters = 2 # Number of filters for CNN layers\n",
    "num_units = 128 # Number of units for RNN layers\n",
    "num_heads = 8 # Number of heads for attention layers\n",
    "dropout_rate = 0.1 # Dropout rate for regularization\n",
    "\n",
    "model2 = Sequential()\n",
    "model2.add(Input(shape=(16000, 1)))\n",
    "model2.add(MaxPool1D(pool_size=(4)))\n",
    "model2.add(Conv1D(filters=64, kernel_size=5, activation='softmax'))\n",
    "model2.add(MaxPool1D(pool_size=(4)))\n",
    "model2.add(Conv1D(filters=128, kernel_size=5, activation='softmax'))\n",
    "model2.add(MaxPool1D(pool_size=(4)))\n",
    "model2.add(Conv1D(filters=256, kernel_size=5, activation='softmax'))\n",
    "model2.add(Flatten())\n",
    "model2.add(Dense(units=256, activation='softmax'))\n",
    "model2.add(Dropout(0.2))\n",
    "model2.add(Dense(units=128, activation='softmax'))\n",
    "model2.add(Dropout(0.2))\n",
    "model2.add(Dense(units=num_classes, activation='softmax'))\n",
    "\n",
    "opt = tf.keras.optimizers.Adam(learning_rate=10e-2)\n",
    "model2.summary()\n",
    "model2.compile(optimizer=opt, loss='categorical_crossentropy', metrics=['categorical_accuracy'])"
   ]
  },
  {
   "cell_type": "code",
   "execution_count": 70,
   "metadata": {},
   "outputs": [
    {
     "name": "stdout",
     "output_type": "stream",
     "text": [
      "Epoch 1/10\n",
      "9/9 [==============================] - 4s 358ms/step - loss: 1.1027 - categorical_accuracy: 0.3412 - val_loss: 1.1478 - val_categorical_accuracy: 0.2812\n",
      "Epoch 2/10\n",
      "9/9 [==============================] - 3s 334ms/step - loss: 1.1201 - categorical_accuracy: 0.3059 - val_loss: 1.1084 - val_categorical_accuracy: 0.2969\n",
      "Epoch 3/10\n",
      "9/9 [==============================] - 3s 340ms/step - loss: 1.0988 - categorical_accuracy: 0.3686 - val_loss: 1.1023 - val_categorical_accuracy: 0.2812\n",
      "Epoch 4/10\n",
      "9/9 [==============================] - 3s 341ms/step - loss: 1.0974 - categorical_accuracy: 0.3843 - val_loss: 1.1259 - val_categorical_accuracy: 0.2969\n",
      "Epoch 5/10\n",
      "9/9 [==============================] - 3s 334ms/step - loss: 1.1039 - categorical_accuracy: 0.3843 - val_loss: 1.1146 - val_categorical_accuracy: 0.2812\n",
      "Epoch 6/10\n",
      "9/9 [==============================] - 3s 331ms/step - loss: 1.1132 - categorical_accuracy: 0.3451 - val_loss: 1.1121 - val_categorical_accuracy: 0.2812\n",
      "Epoch 7/10\n",
      "9/9 [==============================] - 3s 331ms/step - loss: 1.1063 - categorical_accuracy: 0.3412 - val_loss: 1.1184 - val_categorical_accuracy: 0.2969\n",
      "Epoch 8/10\n",
      "9/9 [==============================] - 3s 334ms/step - loss: 1.1072 - categorical_accuracy: 0.3608 - val_loss: 1.1266 - val_categorical_accuracy: 0.2969\n",
      "Epoch 9/10\n",
      "9/9 [==============================] - 3s 338ms/step - loss: 1.0989 - categorical_accuracy: 0.3569 - val_loss: 1.1107 - val_categorical_accuracy: 0.2969\n",
      "Epoch 10/10\n",
      "9/9 [==============================] - 3s 342ms/step - loss: 1.1126 - categorical_accuracy: 0.3333 - val_loss: 1.1196 - val_categorical_accuracy: 0.2969\n"
     ]
    },
    {
     "data": {
      "text/plain": [
       "<keras.callbacks.History at 0x265d01f60e0>"
      ]
     },
     "execution_count": 70,
     "metadata": {},
     "output_type": "execute_result"
    }
   ],
   "source": [
    "model2.fit(x_train_sapcm, y_train_sapcm, epochs=10, batch_size=30, validation_data=(x_test_sapcm, y_test_sapcm))"
   ]
  },
  {
   "cell_type": "code",
   "execution_count": 71,
   "metadata": {},
   "outputs": [
    {
     "name": "stdout",
     "output_type": "stream",
     "text": [
      "2/2 - 0s - loss: 1.1196 - categorical_accuracy: 0.2969 - 210ms/epoch - 105ms/step\n",
      "2/2 [==============================] - 0s 109ms/step\n",
      "tf.Tensor(\n",
      "[[19  0  0]\n",
      " [27  0  0]\n",
      " [18  0  0]], shape=(3, 3), dtype=int32)\n"
     ]
    }
   ],
   "source": [
    "model2.evaluate(x_test_sapcm, y_test_sapcm, verbose=2)\n",
    "pred_test_sapcm = model2.predict(x_test_sapcm)\n",
    "print(tf.math.confusion_matrix(y_test_sapcm.argmax(axis=1), pred_test_sapcm.argmax(axis=1)))"
   ]
  },
  {
   "cell_type": "code",
   "execution_count": null,
   "metadata": {},
   "outputs": [],
   "source": []
  }
 ],
 "metadata": {
  "kernelspec": {
   "display_name": "Python 3 (ipykernel)",
   "language": "python",
   "name": "python3"
  },
  "language_info": {
   "codemirror_mode": {
    "name": "ipython",
    "version": 3
   },
   "file_extension": ".py",
   "mimetype": "text/x-python",
   "name": "python",
   "nbconvert_exporter": "python",
   "pygments_lexer": "ipython3",
   "version": "3.10.7"
  }
 },
 "nbformat": 4,
 "nbformat_minor": 4
}
